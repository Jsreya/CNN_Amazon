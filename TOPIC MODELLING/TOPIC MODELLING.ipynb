{
 "cells": [
  {
   "cell_type": "code",
   "execution_count": 1,
   "metadata": {},
   "outputs": [],
   "source": [
    "import pandas as pd\n",
    "import string \n",
    "from nltk.tokenize import word_tokenize, sent_tokenize   #for tokenization\n",
    "from nltk.stem import WordNetLemmatizer,SnowballStemmer\n",
    "from nltk.corpus import stopwords\n",
    "import gensim"
   ]
  },
  {
   "cell_type": "code",
   "execution_count": 2,
   "metadata": {},
   "outputs": [
    {
     "data": {
      "text/html": [
       "<div>\n",
       "<style scoped>\n",
       "    .dataframe tbody tr th:only-of-type {\n",
       "        vertical-align: middle;\n",
       "    }\n",
       "\n",
       "    .dataframe tbody tr th {\n",
       "        vertical-align: top;\n",
       "    }\n",
       "\n",
       "    .dataframe thead th {\n",
       "        text-align: right;\n",
       "    }\n",
       "</style>\n",
       "<table border=\"1\" class=\"dataframe\">\n",
       "  <thead>\n",
       "    <tr style=\"text-align: right;\">\n",
       "      <th></th>\n",
       "      <th>head</th>\n",
       "      <th>desc</th>\n",
       "      <th>topic</th>\n",
       "    </tr>\n",
       "  </thead>\n",
       "  <tbody>\n",
       "    <tr>\n",
       "      <th>0</th>\n",
       "      <td>India's Petronet buys LNG cargo for November d...</td>\n",
       "      <td>SINGAPORE (Reuters) - India’s Petronet LNG bo...</td>\n",
       "      <td>Business</td>\n",
       "    </tr>\n",
       "    <tr>\n",
       "      <th>1</th>\n",
       "      <td>Deutsche Bank: Global GDP to hit pre-COVID-19 ...</td>\n",
       "      <td>LONDON (Reuters) - World economic output will...</td>\n",
       "      <td>Business</td>\n",
       "    </tr>\n",
       "    <tr>\n",
       "      <th>2</th>\n",
       "      <td>France's Iliad makes $4.2 billion bid for Poli...</td>\n",
       "      <td>PARIS (Reuters) - France's Iliad ILD.PA moved...</td>\n",
       "      <td>Business</td>\n",
       "    </tr>\n",
       "    <tr>\n",
       "      <th>3</th>\n",
       "      <td>UK's Informa posts first-half loss after nearl...</td>\n",
       "      <td>(Reuters) - Informa Plc, the world’s largest ...</td>\n",
       "      <td>Business</td>\n",
       "    </tr>\n",
       "    <tr>\n",
       "      <th>4</th>\n",
       "      <td>Spain faces unusual problem: how to spend bill...</td>\n",
       "      <td>MADRID (Reuters) - After securing a generous ...</td>\n",
       "      <td>Business</td>\n",
       "    </tr>\n",
       "    <tr>\n",
       "      <th>5</th>\n",
       "      <td>AngloGold Ashanti reinstates trimmed 2020 outp...</td>\n",
       "      <td>JOHANNESBURG (Reuters) - AngloGold Ashanti re...</td>\n",
       "      <td>Business</td>\n",
       "    </tr>\n",
       "    <tr>\n",
       "      <th>6</th>\n",
       "      <td>'FinCEN' documents reportedly show banks moved...</td>\n",
       "      <td>(Reuters) - Several global banks moved large ...</td>\n",
       "      <td>Business</td>\n",
       "    </tr>\n",
       "  </tbody>\n",
       "</table>\n",
       "</div>"
      ],
      "text/plain": [
       "                                                head  \\\n",
       "0  India's Petronet buys LNG cargo for November d...   \n",
       "1  Deutsche Bank: Global GDP to hit pre-COVID-19 ...   \n",
       "2  France's Iliad makes $4.2 billion bid for Poli...   \n",
       "3  UK's Informa posts first-half loss after nearl...   \n",
       "4  Spain faces unusual problem: how to spend bill...   \n",
       "5  AngloGold Ashanti reinstates trimmed 2020 outp...   \n",
       "6  'FinCEN' documents reportedly show banks moved...   \n",
       "\n",
       "                                                desc     topic  \n",
       "0   SINGAPORE (Reuters) - India’s Petronet LNG bo...  Business  \n",
       "1   LONDON (Reuters) - World economic output will...  Business  \n",
       "2   PARIS (Reuters) - France's Iliad ILD.PA moved...  Business  \n",
       "3   (Reuters) - Informa Plc, the world’s largest ...  Business  \n",
       "4   MADRID (Reuters) - After securing a generous ...  Business  \n",
       "5   JOHANNESBURG (Reuters) - AngloGold Ashanti re...  Business  \n",
       "6   (Reuters) - Several global banks moved large ...  Business  "
      ]
     },
     "execution_count": 2,
     "metadata": {},
     "output_type": "execute_result"
    }
   ],
   "source": [
    "news=pd.read_csv(r\"C:\\Users\\hp\\news_scrapping\\news_train.csv\")\n",
    "news.head(7)"
   ]
  },
  {
   "cell_type": "code",
   "execution_count": 3,
   "metadata": {},
   "outputs": [
    {
     "data": {
      "text/plain": [
       "(3101, 3)"
      ]
     },
     "execution_count": 3,
     "metadata": {},
     "output_type": "execute_result"
    }
   ],
   "source": [
    "news.shape"
   ]
  },
  {
   "cell_type": "code",
   "execution_count": 4,
   "metadata": {},
   "outputs": [],
   "source": [
    "news.dropna(inplace=True)"
   ]
  },
  {
   "cell_type": "code",
   "execution_count": 5,
   "metadata": {},
   "outputs": [],
   "source": [
    "def preprocess(text):\n",
    "    processed=[]\n",
    "    lower=text.lower().replace(r'\\n',\" \").replace(r'\\s+', ' ').replace(r'\\d+(\\.\\d+)?', '') \n",
    "    \n",
    "    #removing \\n,large white space and leading_trailing white spaces and numbers by single white space\n",
    "    punct=lower.translate(str.maketrans('', '', string.punctuation))  #remove punctuation\n",
    "    digit=punct.translate(str.maketrans('', '', string.digits))       #remove digits\n",
    "    word= word_tokenize(digit, \"english\")\n",
    "    for i in word:\n",
    "        if i not in stopwords.words('english') and len(i)>3:\n",
    "            lemma=WordNetLemmatizer().lemmatize(i)\n",
    "            processed.append(lemma)\n",
    "    return processed"
   ]
  },
  {
   "cell_type": "markdown",
   "metadata": {},
   "source": [
    "**checking the function created above**"
   ]
  },
  {
   "cell_type": "code",
   "execution_count": 6,
   "metadata": {
    "scrolled": true
   },
   "outputs": [
    {
     "name": "stdout",
     "output_type": "stream",
     "text": [
      "Original Document: \n",
      "['India', 'on', 'Tuesday', 'rejected', 'Pakistan’s', 'contention', 'that', 'the', 'Kashmir', 'issue', 'is', 'one', 'of', 'the', 'most', 'long-standing', 'disputes', 'at', 'the', 'United', 'Nations', '(UN),', 'saying', 'Islamabad', 'should', 'instead', 'focus', 'on', 'the', 'unfinished', 'task', 'of', 'tackling', 'terrorism.In', 'a', 'video', 'message', 'on', 'the', 'occasion', 'of', 'the', '75th', 'anniversary', 'of', 'the', 'world', 'body,', 'Pakistan', 'foreign', 'minister', 'Shah', 'Mahmood', 'Qureshi', 'lauded', 'the', 'UN’s', 'achievements', 'but', 'also', 'referred', 'to', '“failings', 'and', 'deficiencies”.“The', 'organisation', 'is', 'only', 'as', 'good', 'as', 'its', 'member', 'states', 'wish', 'it', 'to', 'be.', 'The', 'Jammu', '&', 'Kashmir', '(J&K)', 'and', 'Palestine', 'disputes', 'are', 'the', 'organisation’s', 'most', 'glaring', 'and', 'long-standing', 'disputes.', 'The', 'people', 'of', 'occupied', 'J&K', 'still', 'await', 'fulfilment', 'of', 'the', 'commitment', 'made', 'to', 'them', 'by', 'the', 'UN', 'to', 'grant', 'them', 'their', 'right', 'to', 'self-determination,”', 'he', 'said.“Today,', 'the', 'UN', 'is', 'derided', 'as', 'a', 'talk', 'shop.', 'Its', 'resolutions', 'and', 'decisions', 'are', 'flouted.', 'International', 'cooperation,', 'especially', 'in', 'the', 'Security', 'Council,', 'is', 'at', 'its', 'lowest,”', 'he', 'added.', '22nd', '', 'september', '', '2020']\n",
      "\n",
      "\n",
      "Tokenized and lemmatized document: \n",
      "['india', 'tuesday', 'rejected', 'pakistan', 'contention', 'kashmir', 'issue', 'longstanding', 'dispute', 'united', 'nation', 'saying', 'islamabad', 'instead', 'focus', 'unfinished', 'task', 'tackling', 'terrorismin', 'video', 'message', 'occasion', 'anniversary', 'world', 'body', 'pakistan', 'foreign', 'minister', 'shah', 'mahmood', 'qureshi', 'lauded', 'achievement', 'also', 'referred', 'failing', 'deficiency', 'organisation', 'good', 'member', 'state', 'wish', 'jammu', 'kashmir', 'palestine', 'dispute', 'organisation', 'glaring', 'longstanding', 'dispute', 'people', 'occupied', 'still', 'await', 'fulfilment', 'commitment', 'made', 'grant', 'right', 'selfdetermination', 'said', 'today', 'derided', 'talk', 'shop', 'resolution', 'decision', 'flouted', 'international', 'cooperation', 'especially', 'security', 'council', 'lowest', 'added', 'september']\n"
     ]
    }
   ],
   "source": [
    "\n",
    "text = \"India on Tuesday rejected Pakistan’s contention that the Kashmir issue is one of the most long-standing disputes at the United Nations (UN), saying Islamabad should instead focus on the unfinished task of tackling terrorism.\\\n",
    "\\\n",
    "In a video message on the occasion of the 75th anniversary of the world body, Pakistan foreign minister Shah Mahmood Qureshi lauded the UN’s achievements but also referred to “failings and deficiencies”.\\\n",
    "\\\n",
    "“The organisation is only as good as its member states wish it to be. The Jammu & Kashmir (J&K) and Palestine disputes are the organisation’s most glaring and long-standing disputes. The people of occupied J&K still await fulfilment of the commitment made to them by the UN to grant them their right to self-determination,” he said.\\\n",
    "\\\n",
    "“Today, the UN is derided as a talk shop. Its resolutions and decisions are flouted. International cooperation, especially in the Security Council, is at its lowest,” he added. 22nd  september  2020\"\n",
    "\n",
    "print(\"Original Document: \")\n",
    "processed=[]\n",
    "\n",
    "for word in text.split(' '):\n",
    "    processed.append(word)\n",
    "print(processed)\n",
    "\n",
    "print(\"\\n\\nTokenized and lemmatized document: \")\n",
    "print(preprocess(text))"
   ]
  },
  {
   "cell_type": "code",
   "execution_count": 7,
   "metadata": {
    "scrolled": true
   },
   "outputs": [
    {
     "data": {
      "text/plain": [
       "3047     The centenary celebrations of the Jallianwala...\n",
       "3048     Interest in Subhas Chandra Bose’s life contin...\n",
       "3049     The Blue Jade, as the name suggests none too ...\n",
       "3050     I like to believe that “Luitor pani jabi o bo...\n",
       "3057     And the flowers too played along in the gener...\n",
       "3058     A very young audience giggled gleefully and, ...\n",
       "3062     The exhibition, Jewels of India: The Nizam's ...\n",
       "3065     Noted Kathak dancer Manjari Chaturvedi has cl...\n",
       "3072     The rootedness and the reaching-out that mark...\n",
       "3073     The Swara Samrat Festival, the annual endeavo...\n",
       "Name: desc, dtype: object"
      ]
     },
     "execution_count": 7,
     "metadata": {},
     "output_type": "execute_result"
    }
   ],
   "source": [
    "news.desc[-10:]"
   ]
  },
  {
   "cell_type": "code",
   "execution_count": 8,
   "metadata": {},
   "outputs": [
    {
     "name": "stdout",
     "output_type": "stream",
     "text": [
      "Wall time: 3min 26s\n"
     ]
    }
   ],
   "source": [
    "%%time\n",
    "processed_docs = []\n",
    "for i in news.desc:\n",
    "    processed_docs.append(preprocess(i))"
   ]
  },
  {
   "cell_type": "code",
   "execution_count": 9,
   "metadata": {},
   "outputs": [
    {
     "data": {
      "text/plain": [
       "3001"
      ]
     },
     "execution_count": 9,
     "metadata": {},
     "output_type": "execute_result"
    }
   ],
   "source": [
    "len(processed_docs)"
   ]
  },
  {
   "cell_type": "code",
   "execution_count": 10,
   "metadata": {
    "scrolled": true
   },
   "outputs": [
    {
     "name": "stdout",
     "output_type": "stream",
     "text": [
      "[['london', 'reuters', 'price', 'fell', 'monday', 'weakened', 'possible', 'return', 'libyan', 'production', 'rising', 'coronavirus', 'case', 'stoked', 'worry', 'global', 'demand', 'although', 'market', 'drew', 'support', 'tropical', 'storm', 'threatened', 'disrupt', 'output', 'gulf', 'mexico', 'brent', 'crude', 'lcoc', 'cent', 'barrel', 'biggest', 'daily', 'drop', 'week', 'crude', 'fell', 'cent', 'barrel', 'worker', 'libya', 'major', 'sharara', 'field', 'restarted', 'operation', 'engineer', 'working', 'said', 'national', 'corporation', 'announced', 'partial', 'lifting', 'force', 'majeure', 'unclear', 'level', 'production', 'might', 'restart', 'past', 'libya', 'proven', 'relatively', 'adept', 'bringing', 'back', 'production', 'circa', 'million', 'however', 'state', 'infrastructure', 'challenge', 'overcome', 'paribas', 'analyst', 'harry', 'tchilinguirian', 'said', 'market', 'facing', 'fork', 'road', 'week', 'come', 'pricing', 'option', 'chooses', 'travel', 'largely', 'depend', 'much', 'real', 'progress', 'come', 'libya', 'goldman', 'sachs', 'stuck', 'forecast', 'brent', 'reach', 'barrel', 'yearend', 'third', 'quarter', 'next', 'year', 'despite', 'libyan', 'development', 'barclays', 'raised', 'brent', 'outlook', 'barrel', 'next', 'year', 'bullish', 'sentiment', 'underpinned', 'hope', 'improved', 'compliance', 'output', 'deal', 'among', 'member', 'organization', 'petroleum', 'exporting', 'country', 'opec', 'ally', 'rise', 'coronavirus', 'case', 'could', 'demand', 'million', 'people', 'infected', 'novel', 'coronavirus', 'reuters', 'tally', 'show', 'british', 'prime', 'minister', 'boris', 'johnson', 'monday', 'pondering', 'second', 'national', 'lockdown', 'case', 'spain', 'france', 'also', 'climbed', 'providing', 'floor', 'price', 'tropical', 'storm', 'beta', 'named', 'storm', 'year', 'atlantic', 'hurricane', 'season', 'moved', 'ashore', 'threatening', 'production'], ['london', 'reuters', 'british', 'manufacturer', 'evidence', 'shaped', 'recovery', 'coronavirus', 'pandemic', 'underway', 'many', 'planning', 'slash', 'investment', 'business', 'survey', 'showed', 'monday', 'make', 'industry', 'association', 'accountant', 'said', 'output', 'order', 'improved', 'historic', 'low', 'struck', 'last', 'quarter', 'depth', 'pandemic', 'survey', 'quarterly', 'gauge', 'investment', 'intention', 'fell', 'almost', 'touching', 'depth', 'last', 'seen', 'financial', 'crisis', 'manufacturing', 'begun', 'climb', 'away', 'abyss', 'stared', 'earlier', 'year', 'said', 'stephen', 'phipson', 'chief', 'executive', 'make', 'make', 'mistake', 'going', 'long', 'haul', 'back', 'towards', 'normal', 'trading', 'condition', 'talk', 'shaped', 'recovery', 'nothing', 'fanciful', 'possibility', 'britain', 'european', 'union', 'fail', 'agree', 'trade', 'deal', 'brexit', 'transition', 'period', 'would', 'final', 'nail', 'coffin', 'many', 'manufacturer', 'phipson', 'added', 'output', 'britain', 'manufacturing', 'sector', 'still', 'prepandemic', 'level', 'july', 'according', 'official', 'data', 'published', 'earlier', 'month', 'like', 'indicator', 'labour', 'market', 'manufacturer', 'employment', 'expectation', 'deteriorated', 'latest', 'make', 'ukbdo', 'survey', 'although', 'gauge', 'future', 'output', 'improved', 'somewhat', 'survey', 'company', 'conducted']]\n"
     ]
    }
   ],
   "source": [
    "print(processed_docs[7:9])"
   ]
  },
  {
   "cell_type": "code",
   "execution_count": 11,
   "metadata": {},
   "outputs": [],
   "source": [
    "#bag of words on the data set\n",
    "dictionary = gensim.corpora.Dictionary(processed_docs)"
   ]
  },
  {
   "cell_type": "code",
   "execution_count": 12,
   "metadata": {},
   "outputs": [
    {
     "name": "stdout",
     "output_type": "stream",
     "text": [
      "Dictionary(38801 unique tokens: ['basis', 'bought', 'british', 'cargo', 'dahej']...)\n"
     ]
    }
   ],
   "source": [
    "print (dictionary)"
   ]
  },
  {
   "cell_type": "code",
   "execution_count": 13,
   "metadata": {
    "scrolled": true
   },
   "outputs": [
    {
     "name": "stdout",
     "output_type": "stream",
     "text": [
      "0 basis\n",
      "1 bought\n",
      "2 british\n",
      "3 cargo\n",
      "4 dahej\n",
      "5 delivered\n",
      "6 delivery\n",
      "7 either\n",
      "8 exship\n",
      "9 india\n",
      "10 industry\n",
      "11 kochi\n",
      "12 liquefied\n",
      "13 million\n",
      "14 mmbtu\n",
      "15 monday\n",
      "16 natural\n",
      "17 november\n",
      "18 petronet\n",
      "19 purchased\n",
      "20 reuters\n",
      "21 said\n",
      "22 singapore\n",
      "23 source\n",
      "24 terminal\n",
      "25 thermal\n",
      "26 unit\n",
      "27 added\n",
      "28 adding\n",
      "29 ahead\n",
      "30 also\n",
      "31 asset\n",
      "32 away\n",
      "33 back\n",
      "34 bank\n",
      "35 begin\n",
      "36 bloated\n",
      "37 bounce\n",
      "38 brexit\n",
      "39 call\n",
      "40 central\n"
     ]
    }
   ],
   "source": [
    "#Lets see if dictionary created succesfully by checking first 40 key value pairs\n",
    "count=0\n",
    "for k,v in dictionary.iteritems():\n",
    "    print (k, v)\n",
    "    count +=1\n",
    "    if count >40:\n",
    "        break"
   ]
  },
  {
   "cell_type": "code",
   "execution_count": 14,
   "metadata": {},
   "outputs": [],
   "source": [
    "#removing rare and repeatative words\n",
    "\n",
    "dictionary.filter_extremes(no_below=5,no_above=0.1,keep_n=38800)"
   ]
  },
  {
   "cell_type": "code",
   "execution_count": 15,
   "metadata": {},
   "outputs": [
    {
     "name": "stdout",
     "output_type": "stream",
     "text": [
      "Dictionary(10154 unique tokens: ['basis', 'bought', 'british', 'cargo', 'delivered']...)\n"
     ]
    }
   ],
   "source": [
    "print (dictionary)"
   ]
  },
  {
   "cell_type": "code",
   "execution_count": 16,
   "metadata": {},
   "outputs": [],
   "source": [
    "bow_corpus = [dictionary.doc2bow(doc) for doc in processed_docs]"
   ]
  },
  {
   "cell_type": "code",
   "execution_count": 17,
   "metadata": {
    "scrolled": true
   },
   "outputs": [
    {
     "data": {
      "text/plain": [
       "[(0, 2),\n",
       " (28, 1),\n",
       " (34, 1),\n",
       " (35, 1),\n",
       " (43, 2),\n",
       " (53, 1),\n",
       " (67, 1),\n",
       " (69, 1),\n",
       " (97, 1),\n",
       " (107, 1),\n",
       " (141, 4),\n",
       " (143, 1),\n",
       " (151, 2),\n",
       " (152, 1),\n",
       " (153, 1),\n",
       " (154, 1),\n",
       " (155, 3),\n",
       " (156, 1),\n",
       " (157, 1),\n",
       " (158, 1),\n",
       " (159, 1),\n",
       " (160, 1),\n",
       " (161, 1),\n",
       " (162, 1),\n",
       " (163, 1),\n",
       " (164, 1),\n",
       " (165, 1),\n",
       " (166, 1),\n",
       " (167, 1),\n",
       " (168, 1),\n",
       " (169, 2),\n",
       " (170, 1),\n",
       " (171, 1),\n",
       " (172, 1),\n",
       " (173, 1),\n",
       " (174, 1),\n",
       " (175, 2),\n",
       " (176, 1),\n",
       " (177, 1),\n",
       " (178, 1),\n",
       " (179, 1),\n",
       " (180, 1),\n",
       " (181, 1),\n",
       " (182, 1),\n",
       " (183, 1),\n",
       " (184, 1),\n",
       " (185, 1),\n",
       " (186, 1),\n",
       " (187, 1),\n",
       " (188, 1),\n",
       " (189, 1),\n",
       " (190, 1),\n",
       " (191, 1),\n",
       " (192, 1),\n",
       " (193, 2),\n",
       " (194, 1),\n",
       " (195, 2),\n",
       " (196, 1),\n",
       " (197, 10),\n",
       " (198, 3),\n",
       " (199, 1),\n",
       " (200, 1),\n",
       " (201, 1),\n",
       " (202, 1),\n",
       " (203, 1),\n",
       " (204, 1),\n",
       " (205, 1),\n",
       " (206, 1),\n",
       " (207, 1),\n",
       " (208, 1),\n",
       " (209, 1),\n",
       " (210, 1),\n",
       " (211, 2),\n",
       " (212, 1),\n",
       " (213, 1),\n",
       " (214, 1),\n",
       " (215, 1)]"
      ]
     },
     "execution_count": 17,
     "metadata": {},
     "output_type": "execute_result"
    }
   ],
   "source": [
    "bow_corpus[3]"
   ]
  },
  {
   "cell_type": "code",
   "execution_count": 18,
   "metadata": {
    "scrolled": true
   },
   "outputs": [
    {
     "name": "stdout",
     "output_type": "stream",
     "text": [
      "Word 8 (\"natural\") appears 2 time.\n",
      "Word 21 (\"call\") appears 3 time.\n",
      "Word 50 (\"london\") appears 1 time.\n",
      "Word 54 (\"momentum\") appears 1 time.\n",
      "Word 62 (\"policy\") appears 2 time.\n",
      "Word 73 (\"risk\") appears 1 time.\n",
      "Word 101 (\"decade\") appears 2 time.\n",
      "Word 135 (\"play\") appears 1 time.\n",
      "Word 141 (\"revenue\") appears 1 time.\n",
      "Word 187 (\"loss\") appears 1 time.\n",
      "Word 246 (\"director\") appears 1 time.\n",
      "Word 263 (\"fund\") appears 1 time.\n",
      "Word 288 (\"must\") appears 1 time.\n",
      "Word 327 (\"summit\") appears 1 time.\n",
      "Word 357 (\"limit\") appears 1 time.\n",
      "Word 362 (\"operation\") appears 1 time.\n",
      "Word 381 (\"action\") appears 2 time.\n",
      "Word 425 (\"fight\") appears 1 time.\n",
      "Word 469 (\"needed\") appears 1 time.\n",
      "Word 489 (\"provide\") appears 1 time.\n",
      "Word 495 (\"resource\") appears 1 time.\n",
      "Word 497 (\"role\") appears 1 time.\n",
      "Word 504 (\"society\") appears 1 time.\n",
      "Word 517 (\"threat\") appears 1 time.\n",
      "Word 522 (\"trillion\") appears 1 time.\n",
      "Word 653 (\"towards\") appears 1 time.\n",
      "Word 680 (\"issued\") appears 1 time.\n",
      "Word 777 (\"broader\") appears 1 time.\n",
      "Word 830 (\"build\") appears 1 time.\n",
      "Word 897 (\"prepares\") appears 1 time.\n",
      "Word 965 (\"coalition\") appears 1 time.\n",
      "Word 1067 (\"together\") appears 1 time.\n",
      "Word 1082 (\"amazon\") appears 1 time.\n",
      "Word 1100 (\"combined\") appears 1 time.\n",
      "Word 1136 (\"growing\") appears 1 time.\n",
      "Word 1157 (\"others\") appears 1 time.\n",
      "Word 1187 (\"taking\") appears 2 time.\n",
      "Word 1197 (\"allow\") appears 1 time.\n",
      "Word 1220 (\"joint\") appears 1 time.\n",
      "Word 1223 (\"microsoft\") appears 1 time.\n",
      "Word 1224 (\"msfto\") appears 1 time.\n",
      "Word 1244 (\"signed\") appears 1 time.\n",
      "Word 1258 (\"walmart\") appears 1 time.\n",
      "Word 1260 (\"wmtn\") appears 1 time.\n",
      "Word 1320 (\"nation\") appears 1 time.\n",
      "Word 1369 (\"backed\") appears 1 time.\n",
      "Word 1394 (\"reverse\") appears 2 time.\n",
      "Word 1555 (\"accelerating\") appears 1 time.\n",
      "Word 1556 (\"adopt\") appears 1 time.\n",
      "Word 1557 (\"aiming\") appears 1 time.\n",
      "Word 1558 (\"animal\") appears 1 time.\n",
      "Word 1559 (\"bird\") appears 1 time.\n",
      "Word 1560 (\"california\") appears 1 time.\n",
      "Word 1561 (\"calling\") appears 1 time.\n",
      "Word 1562 (\"citigroup\") appears 1 time.\n",
      "Word 1563 (\"climate\") appears 1 time.\n",
      "Word 1564 (\"commitment\") appears 1 time.\n",
      "Word 1565 (\"crucial\") appears 1 time.\n",
      "Word 1566 (\"destruction\") appears 1 time.\n",
      "Word 1567 (\"ecosystem\") appears 1 time.\n",
      "Word 1568 (\"extinction\") appears 1 time.\n",
      "Word 1569 (\"fire\") appears 1 time.\n",
      "Word 1570 (\"fish\") appears 1 time.\n",
      "Word 1571 (\"forging\") appears 1 time.\n",
      "Word 1572 (\"healthy\") appears 2 time.\n",
      "Word 1573 (\"host\") appears 1 time.\n",
      "Word 1574 (\"human\") appears 1 time.\n",
      "Word 1575 (\"included\") appears 1 time.\n",
      "Word 1576 (\"let\") appears 1 time.\n",
      "Word 1577 (\"live\") appears 1 time.\n",
      "Word 1578 (\"nature\") appears 5 time.\n",
      "Word 1579 (\"organised\") appears 1 time.\n",
      "Word 1580 (\"pact\") appears 1 time.\n",
      "Word 1581 (\"panel\") appears 1 time.\n",
      "Word 1582 (\"planet\") appears 1 time.\n",
      "Word 1583 (\"protect\") appears 1 time.\n",
      "Word 1584 (\"rely\") appears 1 time.\n",
      "Word 1585 (\"resilient\") appears 1 time.\n",
      "Word 1586 (\"restore\") appears 1 time.\n",
      "Word 1587 (\"scale\") appears 1 time.\n",
      "Word 1588 (\"scientist\") appears 1 time.\n",
      "Word 1589 (\"sign\") appears 1 time.\n",
      "Word 1590 (\"specie\") appears 1 time.\n",
      "Word 1591 (\"speed\") appears 1 time.\n",
      "Word 1592 (\"step\") appears 1 time.\n",
      "Word 1593 (\"thriving\") appears 1 time.\n",
      "Word 1594 (\"tomorrow\") appears 1 time.\n",
      "Word 1595 (\"twothirds\") appears 1 time.\n",
      "Word 1596 (\"unilever\") appears 1 time.\n",
      "Word 1597 (\"ward\") appears 1 time.\n",
      "Word 1598 (\"wellbeing\") appears 1 time.\n",
      "Word 1599 (\"wildlife\") appears 1 time.\n"
     ]
    }
   ],
   "source": [
    "#preview \n",
    "document_num = 21\n",
    "bow_doc_x = bow_corpus[document_num]\n",
    "\n",
    "for i in range(len(bow_doc_x)):\n",
    "    print(\"Word {} (\\\"{}\\\") appears {} time.\".format(bow_doc_x[i][0], \n",
    "                                                     dictionary[bow_doc_x[i][0]],\n",
    "                                                     bow_doc_x[i][1]))"
   ]
  },
  {
   "cell_type": "code",
   "execution_count": 19,
   "metadata": {},
   "outputs": [],
   "source": [
    "lda_model =  gensim.models.LdaMulticore(bow_corpus, \n",
    "                                   num_topics = 21, \n",
    "                                   id2word = dictionary,                                    \n",
    "                                   passes = 10,\n",
    "                                   workers = 4)"
   ]
  },
  {
   "cell_type": "code",
   "execution_count": 20,
   "metadata": {
    "scrolled": true
   },
   "outputs": [
    {
     "name": "stdout",
     "output_type": "stream",
     "text": [
      "Topic: 10 \n",
      "Words: 0.023*\"facebook\" + 0.010*\"navalny\" + 0.008*\"russian\" + 0.008*\"russia\" + 0.007*\"germany\" + 0.007*\"qanon\" + 0.006*\"content\" + 0.006*\"german\" + 0.005*\"moscow\" + 0.005*\"berlin\"\n",
      "\n",
      "\n",
      "Topic: 7 \n",
      "Words: 0.023*\"taiwan\" + 0.012*\"student\" + 0.007*\"hurricane\" + 0.007*\"storm\" + 0.006*\"school\" + 0.006*\"island\" + 0.006*\"university\" + 0.005*\"gulf\" + 0.004*\"mexico\" + 0.004*\"production\"\n",
      "\n",
      "\n",
      "Topic: 6 \n",
      "Words: 0.012*\"club\" + 0.008*\"song\" + 0.008*\"messi\" + 0.008*\"barcelona\" + 0.007*\"britain\" + 0.007*\"euro\" + 0.007*\"london\" + 0.007*\"pound\" + 0.006*\"real\" + 0.006*\"league\"\n",
      "\n",
      "\n",
      "Topic: 20 \n",
      "Words: 0.010*\"index\" + 0.010*\"stock\" + 0.008*\"investor\" + 0.008*\"rate\" + 0.008*\"price\" + 0.007*\"dollar\" + 0.006*\"inflation\" + 0.006*\"rose\" + 0.005*\"fell\" + 0.005*\"gold\"\n",
      "\n",
      "\n",
      "Topic: 15 \n",
      "Words: 0.016*\"border\" + 0.011*\"troop\" + 0.010*\"military\" + 0.007*\"foreign\" + 0.006*\"delhi\" + 0.006*\"force\" + 0.006*\"army\" + 0.006*\"tension\" + 0.005*\"beijing\" + 0.005*\"ministry\"\n",
      "\n",
      "\n",
      "Topic: 9 \n",
      "Words: 0.018*\"cent\" + 0.007*\"crore\" + 0.006*\"australia\" + 0.004*\"samsung\" + 0.004*\"apple\" + 0.004*\"england\" + 0.004*\"office\" + 0.004*\"migrant\" + 0.004*\"revenue\" + 0.004*\"board\"\n",
      "\n",
      "\n",
      "Topic: 11 \n",
      "Words: 0.010*\"police\" + 0.007*\"campaign\" + 0.006*\"attack\" + 0.005*\"department\" + 0.004*\"violence\" + 0.004*\"officer\" + 0.004*\"force\" + 0.003*\"investigation\" + 0.003*\"protest\" + 0.003*\"political\"\n",
      "\n",
      "\n",
      "Topic: 13 \n",
      "Words: 0.007*\"cent\" + 0.006*\"protest\" + 0.005*\"fund\" + 0.004*\"event\" + 0.004*\"loan\" + 0.004*\"king\" + 0.004*\"recovery\" + 0.004*\"monarchy\" + 0.004*\"investment\" + 0.003*\"hotel\"\n",
      "\n",
      "\n",
      "Topic: 3 \n",
      "Words: 0.012*\"price\" + 0.009*\"sale\" + 0.007*\"store\" + 0.007*\"food\" + 0.007*\"product\" + 0.007*\"demand\" + 0.006*\"opec\" + 0.005*\"consumer\" + 0.004*\"retail\" + 0.004*\"online\"\n",
      "\n",
      "\n",
      "Topic: 1 \n",
      "Words: 0.016*\"biden\" + 0.010*\"republican\" + 0.009*\"infection\" + 0.007*\"virus\" + 0.007*\"hospital\" + 0.007*\"democratic\" + 0.006*\"test\" + 0.006*\"democrat\" + 0.005*\"patient\" + 0.005*\"senate\"\n",
      "\n",
      "\n",
      "Topic: 8 \n",
      "Words: 0.055*\"vaccine\" + 0.033*\"trial\" + 0.009*\"astrazeneca\" + 0.009*\"study\" + 0.008*\"safety\" + 0.007*\"drug\" + 0.007*\"dos\" + 0.006*\"clinical\" + 0.005*\"candidate\" + 0.005*\"participant\"\n",
      "\n",
      "\n",
      "Topic: 18 \n",
      "Words: 0.007*\"israel\" + 0.005*\"crore\" + 0.005*\"race\" + 0.004*\"palestinian\" + 0.004*\"fiscal\" + 0.004*\"crisis\" + 0.004*\"quarter\" + 0.004*\"growth\" + 0.004*\"saudi\" + 0.004*\"recovery\"\n",
      "\n",
      "\n",
      "Topic: 14 \n",
      "Words: 0.006*\"woman\" + 0.006*\"book\" + 0.006*\"justice\" + 0.005*\"ginsburg\" + 0.004*\"loan\" + 0.004*\"committee\" + 0.003*\"boeing\" + 0.003*\"supreme\" + 0.003*\"say\" + 0.003*\"bose\"\n",
      "\n",
      "\n",
      "Topic: 17 \n",
      "Words: 0.006*\"music\" + 0.005*\"always\" + 0.005*\"different\" + 0.005*\"something\" + 0.005*\"love\" + 0.005*\"really\" + 0.005*\"story\" + 0.004*\"video\" + 0.004*\"feel\" + 0.004*\"family\"\n",
      "\n",
      "\n",
      "Topic: 12 \n",
      "Words: 0.007*\"facebook\" + 0.006*\"supreme\" + 0.006*\"nifty\" + 0.006*\"voting\" + 0.006*\"conservative\" + 0.006*\"vote\" + 0.006*\"justice\" + 0.005*\"ginsburg\" + 0.004*\"appeal\" + 0.004*\"black\"\n",
      "\n",
      "\n",
      "Topic: 19 \n",
      "Words: 0.013*\"japan\" + 0.011*\"suga\" + 0.010*\"prime\" + 0.008*\"sanction\" + 0.008*\"iran\" + 0.007*\"bill\" + 0.007*\"parliament\" + 0.006*\"vote\" + 0.006*\"tokyo\" + 0.006*\"trade\"\n",
      "\n",
      "\n",
      "Topic: 5 \n",
      "Words: 0.020*\"vehicle\" + 0.015*\"osaka\" + 0.015*\"tesla\" + 0.013*\"electric\" + 0.011*\"azarenka\" + 0.008*\"battery\" + 0.005*\"automaker\" + 0.005*\"motor\" + 0.005*\"mask\" + 0.005*\"model\"\n",
      "\n",
      "\n",
      "Topic: 2 \n",
      "Words: 0.013*\"grand\" + 0.011*\"slam\" + 0.011*\"title\" + 0.010*\"djokovic\" + 0.009*\"tournament\" + 0.009*\"round\" + 0.008*\"thiem\" + 0.008*\"tour\" + 0.008*\"beat\" + 0.005*\"zverev\"\n",
      "\n",
      "\n",
      "Topic: 4 \n",
      "Words: 0.018*\"tiktok\" + 0.010*\"bytedance\" + 0.008*\"user\" + 0.008*\"apple\" + 0.006*\"investor\" + 0.006*\"investment\" + 0.005*\"google\" + 0.005*\"oracle\" + 0.005*\"corp\" + 0.004*\"payment\"\n",
      "\n",
      "\n",
      "Topic: 0 \n",
      "Words: 0.026*\"league\" + 0.015*\"club\" + 0.014*\"premier\" + 0.012*\"goal\" + 0.007*\"minute\" + 0.007*\"centre\" + 0.005*\"west\" + 0.005*\"fan\" + 0.005*\"tottenham\" + 0.005*\"manager\"\n",
      "\n",
      "\n"
     ]
    }
   ],
   "source": [
    "for idx, topic in lda_model.print_topics():\n",
    "    print(\"Topic: {} \\nWords: {}\".format(idx, topic))\n",
    "    print(\"\\n\")"
   ]
  },
  {
   "cell_type": "markdown",
   "metadata": {},
   "source": [
    "**Implementing the model on a unseen document**"
   ]
  },
  {
   "cell_type": "code",
   "execution_count": 21,
   "metadata": {},
   "outputs": [],
   "source": [
    "document=\"US President Donald Trump has threatened to cut off TikTok if the popular Chinese video sharing app's tentative\\\n",
    "deal with two American companies Walmart and Oracle does not go through.Trump has for weeks threatened to ban TikTok, which\\\n",
    "is owned by China's ByteDance, on national security grounds unless an American company takes control of its US operations.\\\n",
    "TikTok has roughly 100 million users in the US, and Trump says the app gives China access to the personal data of Americans.\\\n",
    "Trump's latest remark came a day after he announced a possible deal between Oracle and Walmart to share the US operations of\\\n",
    "TikTok, which was placed on a ban list due to security concerns.That's working its way through. I've given a preliminary okay,\\\n",
    "the president told reporters at the White House on Monday.They will work -- they're two great companies -- Oracle and Walmart.\\\n",
    "Oracle CEO Larry Ellison is a great genius at that kind of thing. The technology is incredible.So if we can save it, we'll\\\n",
    "save it. And if we can't, we'll cut it off. But they have (a) preliminary (deal). We'll see what they can do. We have to \\\n",
    "have total security. That's the only thing -- very important. We have to have total security, Trump said in response to a \\\n",
    "question.Meanwhile, House Minority Leader Kevin McCarthy praised Trump for his move on TikTok.He is standing up and keeping\\\n",
    "us safer by not allowing China to spy on Americans through their devices of TikTok and others, keeping the ability of Americans\\\n",
    "to use it, but keeping you safe, he told Fox News.White House Press Secretary Kayleigh McEnany said that the US is working \\\n",
    "through the deal.But rest assured that this president is putting the safety of the American people first. The Chinese Communist\\\n",
    "Party having access to the data of millions of Americans is not a tenable situation. But I'll leave it to him to announce \\\n",
    "exactly what that deal looks like, she said.The proposed deal of TikTok with Oracle and Walmart mandates the creation of a \\\n",
    "new American company -- incorporated in Texas -- and the prospect of 25,000 new jobs. Further, TikTok will give USD 5 billion\\\n",
    "to fund the education of American youths.The US last week issued orders to ban popular Chinese social media apps - TikTok and\\\n",
    "WeChat - to safeguard national security. The ban on downloading TikTok, originally scheduled to take effect on Sunday, was \\\n",
    "postponed to September 27, according to the US Department of Commerce.\""
   ]
  },
  {
   "cell_type": "code",
   "execution_count": 22,
   "metadata": {
    "scrolled": true
   },
   "outputs": [
    {
     "name": "stdout",
     "output_type": "stream",
     "text": [
      "Score: 0.05662762373685837\t Topic: 0.016*\"biden\" + 0.010*\"republican\" + 0.009*\"infection\" + 0.007*\"virus\" + 0.007*\"hospital\" + 0.007*\"democratic\" + 0.006*\"test\" + 0.006*\"democrat\" + 0.005*\"patient\" + 0.005*\"senate\" + 0.004*\"vote\" + 0.004*\"testing\" + 0.004*\"daily\" + 0.004*\"presidential\" + 0.004*\"white\" + 0.004*\"campaign\" + 0.004*\"voter\" + 0.004*\"positive\" + 0.004*\"poll\" + 0.004*\"senator\" + 0.004*\"total\" + 0.003*\"rate\" + 0.003*\"woman\" + 0.003*\"police\" + 0.003*\"spread\" + 0.003*\"nominee\" + 0.003*\"disease\" + 0.003*\"died\" + 0.003*\"candidate\" + 0.003*\"justice\"\t\n",
      "\n",
      "Score: 0.77907794713974\t Topic: 0.018*\"tiktok\" + 0.010*\"bytedance\" + 0.008*\"user\" + 0.008*\"apple\" + 0.006*\"investor\" + 0.006*\"investment\" + 0.005*\"google\" + 0.005*\"oracle\" + 0.005*\"corp\" + 0.004*\"payment\" + 0.004*\"fund\" + 0.004*\"sale\" + 0.004*\"video\" + 0.004*\"stake\" + 0.004*\"request\" + 0.004*\"tech\" + 0.004*\"microsoft\" + 0.004*\"platform\" + 0.004*\"operation\" + 0.003*\"rule\" + 0.003*\"declined\" + 0.003*\"digital\" + 0.003*\"asset\" + 0.003*\"foreign\" + 0.003*\"apps\" + 0.003*\"facebook\" + 0.003*\"offer\" + 0.003*\"offering\" + 0.003*\"respond\" + 0.003*\"transaction\"\t\n",
      "\n",
      "Score: 0.017149711027741432\t Topic: 0.012*\"club\" + 0.008*\"song\" + 0.008*\"messi\" + 0.008*\"barcelona\" + 0.007*\"britain\" + 0.007*\"euro\" + 0.007*\"london\" + 0.007*\"pound\" + 0.006*\"real\" + 0.006*\"league\" + 0.005*\"madrid\" + 0.005*\"british\" + 0.005*\"liverpool\" + 0.004*\"chelsea\" + 0.004*\"coach\" + 0.004*\"agreement\" + 0.004*\"liga\" + 0.004*\"title\" + 0.003*\"trade\" + 0.003*\"european\" + 0.003*\"contract\" + 0.003*\"leave\" + 0.003*\"forward\" + 0.003*\"barca\" + 0.003*\"play\" + 0.003*\"talk\" + 0.003*\"spain\" + 0.003*\"brexit\" + 0.003*\"ireland\" + 0.003*\"johnson\"\t\n",
      "\n",
      "Score: 0.09700625389814377\t Topic: 0.006*\"music\" + 0.005*\"always\" + 0.005*\"different\" + 0.005*\"something\" + 0.005*\"love\" + 0.005*\"really\" + 0.005*\"story\" + 0.004*\"video\" + 0.004*\"feel\" + 0.004*\"family\" + 0.004*\"book\" + 0.004*\"dhoni\" + 0.004*\"woman\" + 0.003*\"experience\" + 0.003*\"live\" + 0.003*\"kind\" + 0.003*\"wanted\" + 0.003*\"together\" + 0.003*\"never\" + 0.003*\"important\" + 0.003*\"idea\" + 0.003*\"play\" + 0.003*\"song\" + 0.003*\"friend\" + 0.003*\"name\" + 0.003*\"fashion\" + 0.003*\"tell\" + 0.003*\"thought\" + 0.003*\"great\" + 0.002*\"cricket\"\t\n",
      "\n",
      "Score: 0.04227492958307266\t Topic: 0.013*\"japan\" + 0.011*\"suga\" + 0.010*\"prime\" + 0.008*\"sanction\" + 0.008*\"iran\" + 0.007*\"bill\" + 0.007*\"parliament\" + 0.006*\"vote\" + 0.006*\"tokyo\" + 0.006*\"trade\" + 0.005*\"policy\" + 0.005*\"hong\" + 0.005*\"kong\" + 0.005*\"representative\" + 0.005*\"nuclear\" + 0.004*\"cabinet\" + 0.004*\"foreign\" + 0.004*\"council\" + 0.004*\"secretary\" + 0.004*\"washington\" + 0.004*\"congress\" + 0.004*\"administration\" + 0.003*\"opposition\" + 0.003*\"japanese\" + 0.003*\"political\" + 0.003*\"lawmaker\" + 0.003*\"ruling\" + 0.003*\"reform\" + 0.003*\"premier\" + 0.003*\"poll\"\t\n",
      "\n"
     ]
    }
   ],
   "source": [
    "trail_bow = dictionary.doc2bow(preprocess(document))\n",
    "\n",
    "for index, score in sorted(lda_model[trail_bow]):\n",
    "    print(\"Score: {}\\t Topic: {}\\t\\n\".format(score, lda_model.print_topic(index, 30)))"
   ]
  },
  {
   "cell_type": "markdown",
   "metadata": {},
   "source": [
    "**IMPLEMENTING ON TEST SET**"
   ]
  },
  {
   "cell_type": "code",
   "execution_count": 23,
   "metadata": {},
   "outputs": [
    {
     "data": {
      "text/html": [
       "<div>\n",
       "<style scoped>\n",
       "    .dataframe tbody tr th:only-of-type {\n",
       "        vertical-align: middle;\n",
       "    }\n",
       "\n",
       "    .dataframe tbody tr th {\n",
       "        vertical-align: top;\n",
       "    }\n",
       "\n",
       "    .dataframe thead th {\n",
       "        text-align: right;\n",
       "    }\n",
       "</style>\n",
       "<table border=\"1\" class=\"dataframe\">\n",
       "  <thead>\n",
       "    <tr style=\"text-align: right;\">\n",
       "      <th></th>\n",
       "      <th>head</th>\n",
       "      <th>desc</th>\n",
       "      <th>topic</th>\n",
       "    </tr>\n",
       "  </thead>\n",
       "  <tbody>\n",
       "    <tr>\n",
       "      <th>0</th>\n",
       "      <td>LS clears changes in FCRA, Aadhaar must for NG...</td>\n",
       "      <td>The Lok Sabha on Monday passed the amendment...</td>\n",
       "      <td>india</td>\n",
       "    </tr>\n",
       "    <tr>\n",
       "      <th>1</th>\n",
       "      <td>Opp behaviour in Rajya Sabha ‘very shameful’: ...</td>\n",
       "      <td>Asserting that it had a clear majority in th...</td>\n",
       "      <td>india</td>\n",
       "    </tr>\n",
       "    <tr>\n",
       "      <th>2</th>\n",
       "      <td>UP to add 7,260 MW power generation by 2022: S...</td>\n",
       "      <td>The Uttar Pradesh Government will increase i...</td>\n",
       "      <td>india</td>\n",
       "    </tr>\n",
       "    <tr>\n",
       "      <th>3</th>\n",
       "      <td>Man rips open wife’s belly to ascertain foetus...</td>\n",
       "      <td>In a horrendous incident, a man ripped open ...</td>\n",
       "      <td>india</td>\n",
       "    </tr>\n",
       "    <tr>\n",
       "      <th>4</th>\n",
       "      <td>Maha Govt files plea in SC over its Maratha jo...</td>\n",
       "      <td>The Maharashtra Government has filed an appl...</td>\n",
       "      <td>india</td>\n",
       "    </tr>\n",
       "    <tr>\n",
       "      <th>5</th>\n",
       "      <td>MAHA LOGS RECORD 32,007 RECOVERIES, AS COVID D...</td>\n",
       "      <td>Maharashtra notched a new record of 32,007 C...</td>\n",
       "      <td>india</td>\n",
       "    </tr>\n",
       "  </tbody>\n",
       "</table>\n",
       "</div>"
      ],
      "text/plain": [
       "                                                head  \\\n",
       "0  LS clears changes in FCRA, Aadhaar must for NG...   \n",
       "1  Opp behaviour in Rajya Sabha ‘very shameful’: ...   \n",
       "2  UP to add 7,260 MW power generation by 2022: S...   \n",
       "3  Man rips open wife’s belly to ascertain foetus...   \n",
       "4  Maha Govt files plea in SC over its Maratha jo...   \n",
       "5  MAHA LOGS RECORD 32,007 RECOVERIES, AS COVID D...   \n",
       "\n",
       "                                                desc  topic  \n",
       "0    The Lok Sabha on Monday passed the amendment...  india  \n",
       "1    Asserting that it had a clear majority in th...  india  \n",
       "2    The Uttar Pradesh Government will increase i...  india  \n",
       "3    In a horrendous incident, a man ripped open ...  india  \n",
       "4    The Maharashtra Government has filed an appl...  india  \n",
       "5    Maharashtra notched a new record of 32,007 C...  india  "
      ]
     },
     "execution_count": 23,
     "metadata": {},
     "output_type": "execute_result"
    }
   ],
   "source": [
    "test=pd.read_csv(r\"C:\\Users\\hp\\news_scrapping\\news_test.csv\")\n",
    "test.head(6)"
   ]
  },
  {
   "cell_type": "code",
   "execution_count": 24,
   "metadata": {},
   "outputs": [],
   "source": [
    "test.dropna(inplace=True)"
   ]
  },
  {
   "cell_type": "code",
   "execution_count": 25,
   "metadata": {},
   "outputs": [
    {
     "data": {
      "text/plain": [
       "0      The Lok Sabha on Monday passed the amendment...\n",
       "1      Asserting that it had a clear majority in th...\n",
       "2      The Uttar Pradesh Government will increase i...\n",
       "3      In a horrendous incident, a man ripped open ...\n",
       "4      The Maharashtra Government has filed an appl...\n",
       "5      Maharashtra notched a new record of 32,007 C...\n",
       "6      Amid the likelihood of Bollywood actresses S...\n",
       "Name: desc, dtype: object"
      ]
     },
     "execution_count": 25,
     "metadata": {},
     "output_type": "execute_result"
    }
   ],
   "source": [
    "test.desc[:7]"
   ]
  },
  {
   "cell_type": "code",
   "execution_count": 26,
   "metadata": {},
   "outputs": [
    {
     "name": "stdout",
     "output_type": "stream",
     "text": [
      "727\n"
     ]
    }
   ],
   "source": [
    "#implementing modelling on an unseen test document\n",
    "import random\n",
    "\n",
    "ran_no= random.randint(0,len(test.desc))\n",
    "print(ran_no)"
   ]
  },
  {
   "cell_type": "code",
   "execution_count": 27,
   "metadata": {},
   "outputs": [
    {
     "data": {
      "text/plain": [
       "' Eleven persons in Tripura tested positive for Covid-19 on Saturday, taking the state’s positive cases to 167.\\nHowever, the state government is yet to find the source of the virus.\\nChief minister Biplab Kumar Deb, who also holds the health portfolio, tweeted, “625 samples have been tested for #COVID19 and among them 11 persons found #COVID19 POSITIVE. 7 people from 86-Bn BSF & 4 civilians from Churaibari Gate (2 drivers from other states, 2 people returned from Guwahati). All the POSITIVE patients are under proper medical care”.\\nThe state now has 103 active cases while 64 patients have been discharged from hospital.\\nLaw minister Ratan Lal Nath told the media in the evening that all the 11 new patients had been shifted to Saheed Bhagat Singh youth hostel, now a dedicated Covid care centre near here.\\nHe said the seven BSF personnel who tested positive on Saturday had earlier tested negative. “On May 15, 10 BSF personnel of the 86th Battalion at the BSF headquarters in Ambassa in Dhalai district were found to have mild symptoms and when we took their samples, seven BSF personnel tested positive,” he said.\\nThe maximum number of Covid-19 cases in the state has been found among the BSF personnel of 86th and 138th battalions in Ambassa subdivision.\\nNath said among the four civilians who tested positive, two were truck drivers coming from Bengal with goods of ONGC Tripura asset. The other two are a 20-year-old girl from Teliamura subdivision in Khowai district and a 24-year-old man from Kamalpur in Dhalai district. They came from Guwahati and Tezpur in Assam.\\n“These four civilians, who came to the state on May 14, were put under home quarantine after collecting their samples,” Nath said.\\nA three-member team, led by Dr G.K. Medhi, professor and head of the community medicine department at NEIGRIHMS, Shillong, which is visiting the state to assist the state health department on Covid-19 management, went to Dhalai district on Saturday, Nath said.'"
      ]
     },
     "execution_count": 27,
     "metadata": {},
     "output_type": "execute_result"
    }
   ],
   "source": [
    "unseen_docx=test.desc[ran_no]\n",
    "unseen_docx"
   ]
  },
  {
   "cell_type": "code",
   "execution_count": 28,
   "metadata": {},
   "outputs": [
    {
     "data": {
      "text/plain": [
       "['eleven',\n",
       " 'person',\n",
       " 'tripura',\n",
       " 'tested',\n",
       " 'positive',\n",
       " 'covid',\n",
       " 'saturday',\n",
       " 'taking',\n",
       " 'state',\n",
       " 'positive',\n",
       " 'case',\n",
       " 'however',\n",
       " 'state',\n",
       " 'government',\n",
       " 'find',\n",
       " 'source',\n",
       " 'virus',\n",
       " 'chief',\n",
       " 'minister',\n",
       " 'biplab',\n",
       " 'kumar',\n",
       " 'also',\n",
       " 'hold',\n",
       " 'health',\n",
       " 'portfolio',\n",
       " 'tweeted',\n",
       " 'sample',\n",
       " 'tested',\n",
       " 'covid',\n",
       " 'among',\n",
       " 'person',\n",
       " 'found',\n",
       " 'covid',\n",
       " 'positive',\n",
       " 'people',\n",
       " 'civilian',\n",
       " 'churaibari',\n",
       " 'gate',\n",
       " 'driver',\n",
       " 'state',\n",
       " 'people',\n",
       " 'returned',\n",
       " 'guwahati',\n",
       " 'positive',\n",
       " 'patient',\n",
       " 'proper',\n",
       " 'medical',\n",
       " 'care',\n",
       " 'state',\n",
       " 'active',\n",
       " 'case',\n",
       " 'patient',\n",
       " 'discharged',\n",
       " 'hospital',\n",
       " 'minister',\n",
       " 'ratan',\n",
       " 'nath',\n",
       " 'told',\n",
       " 'medium',\n",
       " 'evening',\n",
       " 'patient',\n",
       " 'shifted',\n",
       " 'saheed',\n",
       " 'bhagat',\n",
       " 'singh',\n",
       " 'youth',\n",
       " 'hostel',\n",
       " 'dedicated',\n",
       " 'covid',\n",
       " 'care',\n",
       " 'centre',\n",
       " 'near',\n",
       " 'said',\n",
       " 'seven',\n",
       " 'personnel',\n",
       " 'tested',\n",
       " 'positive',\n",
       " 'saturday',\n",
       " 'earlier',\n",
       " 'tested',\n",
       " 'negative',\n",
       " 'personnel',\n",
       " 'battalion',\n",
       " 'headquarters',\n",
       " 'ambassa',\n",
       " 'dhalai',\n",
       " 'district',\n",
       " 'found',\n",
       " 'mild',\n",
       " 'symptom',\n",
       " 'took',\n",
       " 'sample',\n",
       " 'seven',\n",
       " 'personnel',\n",
       " 'tested',\n",
       " 'positive',\n",
       " 'said',\n",
       " 'maximum',\n",
       " 'number',\n",
       " 'covid',\n",
       " 'case',\n",
       " 'state',\n",
       " 'found',\n",
       " 'among',\n",
       " 'personnel',\n",
       " 'battalion',\n",
       " 'ambassa',\n",
       " 'subdivision',\n",
       " 'nath',\n",
       " 'said',\n",
       " 'among',\n",
       " 'four',\n",
       " 'civilian',\n",
       " 'tested',\n",
       " 'positive',\n",
       " 'truck',\n",
       " 'driver',\n",
       " 'coming',\n",
       " 'bengal',\n",
       " 'good',\n",
       " 'ongc',\n",
       " 'tripura',\n",
       " 'asset',\n",
       " 'yearold',\n",
       " 'girl',\n",
       " 'teliamura',\n",
       " 'subdivision',\n",
       " 'khowai',\n",
       " 'district',\n",
       " 'yearold',\n",
       " 'kamalpur',\n",
       " 'dhalai',\n",
       " 'district',\n",
       " 'came',\n",
       " 'guwahati',\n",
       " 'tezpur',\n",
       " 'assam',\n",
       " 'four',\n",
       " 'civilian',\n",
       " 'came',\n",
       " 'state',\n",
       " 'home',\n",
       " 'quarantine',\n",
       " 'collecting',\n",
       " 'sample',\n",
       " 'nath',\n",
       " 'said',\n",
       " 'threemember',\n",
       " 'team',\n",
       " 'medhi',\n",
       " 'professor',\n",
       " 'head',\n",
       " 'community',\n",
       " 'medicine',\n",
       " 'department',\n",
       " 'neigrihms',\n",
       " 'shillong',\n",
       " 'visiting',\n",
       " 'state',\n",
       " 'assist',\n",
       " 'state',\n",
       " 'health',\n",
       " 'department',\n",
       " 'covid',\n",
       " 'management',\n",
       " 'went',\n",
       " 'dhalai',\n",
       " 'district',\n",
       " 'saturday',\n",
       " 'nath',\n",
       " 'said']"
      ]
     },
     "execution_count": 28,
     "metadata": {},
     "output_type": "execute_result"
    }
   ],
   "source": [
    "preprocess = preprocess(unseen_docx)\n",
    "preprocess"
   ]
  },
  {
   "cell_type": "code",
   "execution_count": 29,
   "metadata": {},
   "outputs": [],
   "source": [
    "bow_vector=dictionary.doc2bow(preprocess)"
   ]
  },
  {
   "cell_type": "code",
   "execution_count": 30,
   "metadata": {},
   "outputs": [
    {
     "name": "stdout",
     "output_type": "stream",
     "text": [
      "Score: 0.421162873506546\t Topic: 0.016*\"biden\" + 0.010*\"republican\" + 0.009*\"infection\" + 0.007*\"virus\" + 0.007*\"hospital\" + 0.007*\"democratic\" + 0.006*\"test\" + 0.006*\"democrat\" + 0.005*\"patient\" + 0.005*\"senate\" + 0.004*\"vote\" + 0.004*\"testing\" + 0.004*\"daily\" + 0.004*\"presidential\" + 0.004*\"white\" + 0.004*\"campaign\" + 0.004*\"voter\" + 0.004*\"positive\" + 0.004*\"poll\" + 0.004*\"senator\" + 0.004*\"total\"\n",
      "Score: 0.13163907825946808\t Topic: 0.010*\"police\" + 0.007*\"campaign\" + 0.006*\"attack\" + 0.005*\"department\" + 0.004*\"violence\" + 0.004*\"officer\" + 0.004*\"force\" + 0.003*\"investigation\" + 0.003*\"protest\" + 0.003*\"political\" + 0.003*\"foreign\" + 0.003*\"office\" + 0.003*\"accused\" + 0.003*\"killed\" + 0.003*\"charge\" + 0.003*\"crime\" + 0.003*\"arrested\" + 0.003*\"intelligence\" + 0.003*\"presidential\" + 0.003*\"pakistan\" + 0.003*\"action\"\n",
      "Score: 0.029343679547309875\t Topic: 0.006*\"woman\" + 0.006*\"book\" + 0.006*\"justice\" + 0.005*\"ginsburg\" + 0.004*\"loan\" + 0.004*\"committee\" + 0.003*\"boeing\" + 0.003*\"supreme\" + 0.003*\"say\" + 0.003*\"bose\" + 0.003*\"airline\" + 0.003*\"hair\" + 0.003*\"student\" + 0.003*\"moratorium\" + 0.003*\"birla\" + 0.002*\"school\" + 0.002*\"resolution\" + 0.002*\"pilot\" + 0.002*\"xinjiang\" + 0.002*\"culture\" + 0.002*\"never\"\n",
      "Score: 0.14604245126247406\t Topic: 0.016*\"border\" + 0.011*\"troop\" + 0.010*\"military\" + 0.007*\"foreign\" + 0.006*\"delhi\" + 0.006*\"force\" + 0.006*\"army\" + 0.006*\"tension\" + 0.005*\"beijing\" + 0.005*\"ministry\" + 0.005*\"region\" + 0.004*\"area\" + 0.004*\"system\" + 0.004*\"university\" + 0.004*\"road\" + 0.004*\"soldier\" + 0.004*\"agency\" + 0.004*\"student\" + 0.004*\"along\" + 0.004*\"department\" + 0.003*\"philippine\"\n",
      "Score: 0.26402604579925537\t Topic: 0.016*\"fire\" + 0.009*\"chip\" + 0.007*\"huawei\" + 0.007*\"oregon\" + 0.006*\"area\" + 0.006*\"tree\" + 0.006*\"water\" + 0.005*\"forest\" + 0.004*\"california\" + 0.004*\"rain\" + 0.004*\"department\" + 0.004*\"south\" + 0.004*\"district\" + 0.004*\"resident\" + 0.004*\"road\" + 0.004*\"town\" + 0.003*\"equipment\" + 0.003*\"wildfire\" + 0.003*\"ship\" + 0.003*\"blaze\" + 0.003*\"north\"\n"
     ]
    }
   ],
   "source": [
    "for index, score in sorted(lda_model[bow_vector]):\n",
    "    print(\"Score: {}\\t Topic: {}\".format(score, lda_model.print_topic(index, 21)))"
   ]
  }
 ],
 "metadata": {
  "kernelspec": {
   "display_name": "Python 3",
   "language": "python",
   "name": "python3"
  },
  "language_info": {
   "codemirror_mode": {
    "name": "ipython",
    "version": 3
   },
   "file_extension": ".py",
   "mimetype": "text/x-python",
   "name": "python",
   "nbconvert_exporter": "python",
   "pygments_lexer": "ipython3",
   "version": "3.7.7"
  }
 },
 "nbformat": 4,
 "nbformat_minor": 4
}
