{
 "cells": [
  {
   "cell_type": "code",
   "execution_count": 1,
   "metadata": {},
   "outputs": [],
   "source": [
    "from selenium import webdriver\n",
    "from selenium.webdriver.support.ui import WebDriverWait as wdt\n",
    "from selenium.webdriver.support import expected_conditions as ec\n",
    "from selenium.common.exceptions import StaleElementReferenceException as ser\n",
    "from selenium.webdriver.common.by import By\n",
    "from selenium.webdriver.common.keys import Keys\n",
    "import os\n",
    "import time\n",
    "import pandas as pd"
   ]
  },
  {
   "cell_type": "markdown",
   "metadata": {},
   "source": [
    "# **THE PIONEER**"
   ]
  },
  {
   "cell_type": "code",
   "execution_count": 2,
   "metadata": {},
   "outputs": [],
   "source": [
    "chrome_options = webdriver.ChromeOptions()\n",
    "prefs = {\"profile.default_content_setting_values.notifications\" : 2}\n",
    "chrome_options.add_experimental_option(\"prefs\",prefs)\n",
    "\n",
    "driver=webdriver.Chrome(executable_path=r\"C:\\Users\\hp\\cdriver.exe\",options=chrome_options)"
   ]
  },
  {
   "cell_type": "code",
   "execution_count": 3,
   "metadata": {},
   "outputs": [],
   "source": [
    "#Scrapping news\n",
    "\n",
    "pioneer={}\n",
    "pioneer['head']=[]\n",
    "pioneer['desc']=[]\n",
    "pioneer['topic']=[]\n",
    "\n",
    "link=[]\n",
    "temp=[]\n",
    "\n",
    "def scrapper(driver,page,topics):\n",
    "        \n",
    "    driver.execute_script(\"window.scrollTo(0,document.body.scrollHeight)\")\n",
    "    time.sleep(12)\n",
    "\n",
    "    links=driver.find_elements_by_xpath(\"//div[@class='innerNewsList']//h2/a\")\n",
    "    \n",
    "    \n",
    "    for i in links:\n",
    "        temp.append(i.get_attribute('href'))\n",
    "    \n",
    "    for li in temp:\n",
    "        if li not in link:\n",
    "            link.append(li)   #getting unique/unduplicated links of news\n",
    "            pioneer['topic'].append(topics)\n",
    "    \n",
    "    \n",
    "    "
   ]
  },
  {
   "cell_type": "code",
   "execution_count": 4,
   "metadata": {},
   "outputs": [
    {
     "name": "stdout",
     "output_type": "stream",
     "text": [
      "TOTAL PAGES TO BE SCRAPPED=  18\n",
      "URL=  https://www.dailypioneer.com/india/page/1\n",
      "Extraction of https://www.dailypioneer.com/india/page/1 completed. \n",
      "Time Elapsed 5.87 minute\n",
      "\n",
      "URL=  https://www.dailypioneer.com/business/page/1\n",
      "Extraction of https://www.dailypioneer.com/business/page/1 completed. \n",
      "Time Elapsed 5.85 minute\n",
      "\n",
      "URL=  https://www.dailypioneer.com/world/page/1\n",
      "Extraction of https://www.dailypioneer.com/world/page/1 completed. \n",
      "Time Elapsed 5.95 minute\n",
      "\n",
      "URL=  https://www.dailypioneer.com/sports/page/1\n",
      "Extraction of https://www.dailypioneer.com/sports/page/1 completed. \n",
      "Time Elapsed 5.85 minute\n",
      "\n",
      "URL=  https://www.dailypioneer.com/state-editions/page/1\n",
      "Extraction of https://www.dailypioneer.com/state-editions/page/1 completed. \n",
      "Time Elapsed 5.84 minute\n",
      "\n"
     ]
    }
   ],
   "source": [
    "#getting topics to scrap\n",
    "start=1\n",
    "end=18\n",
    "#we will scrap from 21st page to 45th page\n",
    "href=['india',\"business\",\"world\",\"sports\",'state-editions']\n",
    "#links of fields to scrap\n",
    "\n",
    "print('TOTAL PAGES TO BE SCRAPPED= ',end)\n",
    "\n",
    "for x in href:\n",
    "    start_time=time.time()\n",
    "    url='https://www.dailypioneer.com/'+x+'/page/1'  #url of first page\n",
    "    driver.get(url)\n",
    "    time.sleep(10)\n",
    "    print(\"URL= \",url)\n",
    "    time.sleep(5)\n",
    "    for y in range (start,end):     \n",
    "        \n",
    "        try:\n",
    "            scrapper(driver=driver,page=y,topics=x)\n",
    "            next_page='https://www.dailypioneer.com/'+x+'/page/'+str(y+1)\n",
    "            driver.get(next_page)\n",
    "            time.sleep(7)\n",
    "            \n",
    "        except ser:\n",
    "            print('error while scrapping')\n",
    "            error_page='https://www.dailypioneer.com/'+x+'/page/'+str(y+1)\n",
    "            error_url= error_page\n",
    "            driver.get(error_url)\n",
    "            scrapper(driver=driver,page=x)\n",
    "            next_page='https://www.dailypioneer.com/'+x+'/page/'+str(y+1)\n",
    "            driver.get(next_page)\n",
    "            time.sleep(5)\n",
    "    end_time=time.time()\n",
    "    print(\"Extraction of\", url,'completed. \\nTime Elapsed',round((end_time-start_time)/60,2),'minute\\n')   "
   ]
  },
  {
   "cell_type": "code",
   "execution_count": 5,
   "metadata": {},
   "outputs": [
    {
     "name": "stdout",
     "output_type": "stream",
     "text": [
      "no of links: 595 no of topic 595\n"
     ]
    }
   ],
   "source": [
    "print('no of links:',len(link),'no of topic',len(pioneer['topic']))"
   ]
  },
  {
   "cell_type": "code",
   "execution_count": 6,
   "metadata": {},
   "outputs": [],
   "source": [
    "for i in link:\n",
    "    driver.get(i)\n",
    "    time.sleep(5)\n",
    "\n",
    "    para= driver.find_elements_by_tag_name('p')\n",
    "    \n",
    "    header= driver.find_elements_by_xpath(\"//div[@class='col-12']/h2\")\n",
    "    \n",
    "    article=''\n",
    "    for x in para:\n",
    "        article= article+ ' '+x.text\n",
    "    pioneer['desc'].append(article)\n",
    "    \n",
    "    for y in header:\n",
    "        pioneer['head'].append(y.text)\n",
    "print('Task Completed')"
   ]
  },
  {
   "cell_type": "code",
   "execution_count": 7,
   "metadata": {},
   "outputs": [
    {
     "name": "stdout",
     "output_type": "stream",
     "text": [
      "Head: 595 No of description 595\n"
     ]
    }
   ],
   "source": [
    "print('Head:',len( pioneer['head']),'No of description',len(pioneer['desc']))"
   ]
  },
  {
   "cell_type": "code",
   "execution_count": 8,
   "metadata": {},
   "outputs": [
    {
     "data": {
      "text/html": [
       "<div>\n",
       "<style scoped>\n",
       "    .dataframe tbody tr th:only-of-type {\n",
       "        vertical-align: middle;\n",
       "    }\n",
       "\n",
       "    .dataframe tbody tr th {\n",
       "        vertical-align: top;\n",
       "    }\n",
       "\n",
       "    .dataframe thead th {\n",
       "        text-align: right;\n",
       "    }\n",
       "</style>\n",
       "<table border=\"1\" class=\"dataframe\">\n",
       "  <thead>\n",
       "    <tr style=\"text-align: right;\">\n",
       "      <th></th>\n",
       "      <th>head</th>\n",
       "      <th>desc</th>\n",
       "      <th>topic</th>\n",
       "    </tr>\n",
       "  </thead>\n",
       "  <tbody>\n",
       "    <tr>\n",
       "      <th>0</th>\n",
       "      <td>LS clears changes in FCRA, Aadhaar must for NG...</td>\n",
       "      <td>The Lok Sabha on Monday passed the amendment...</td>\n",
       "      <td>india</td>\n",
       "    </tr>\n",
       "    <tr>\n",
       "      <th>1</th>\n",
       "      <td>Opp behaviour in Rajya Sabha ‘very shameful’: ...</td>\n",
       "      <td>Asserting that it had a clear majority in th...</td>\n",
       "      <td>india</td>\n",
       "    </tr>\n",
       "    <tr>\n",
       "      <th>2</th>\n",
       "      <td>UP to add 7,260 MW power generation by 2022: S...</td>\n",
       "      <td>The Uttar Pradesh Government will increase i...</td>\n",
       "      <td>india</td>\n",
       "    </tr>\n",
       "    <tr>\n",
       "      <th>3</th>\n",
       "      <td>Man rips open wife’s belly to ascertain foetus...</td>\n",
       "      <td>In a horrendous incident, a man ripped open ...</td>\n",
       "      <td>india</td>\n",
       "    </tr>\n",
       "    <tr>\n",
       "      <th>4</th>\n",
       "      <td>Maha Govt files plea in SC over its Maratha jo...</td>\n",
       "      <td>The Maharashtra Government has filed an appl...</td>\n",
       "      <td>india</td>\n",
       "    </tr>\n",
       "    <tr>\n",
       "      <th>...</th>\n",
       "      <td>...</td>\n",
       "      <td>...</td>\n",
       "      <td>...</td>\n",
       "    </tr>\n",
       "    <tr>\n",
       "      <th>590</th>\n",
       "      <td>‘Power of a woman should never be underestimated’</td>\n",
       "      <td>The power of a woman should never be underes...</td>\n",
       "      <td>state-editions</td>\n",
       "    </tr>\n",
       "    <tr>\n",
       "      <th>591</th>\n",
       "      <td>Adult female elephant dies of electrocution in...</td>\n",
       "      <td>A 35-year-old female elephant died of electr...</td>\n",
       "      <td>state-editions</td>\n",
       "    </tr>\n",
       "    <tr>\n",
       "      <th>592</th>\n",
       "      <td>Case filed against 22 Congmen in face blackeni...</td>\n",
       "      <td>A case has been registered against 22 Congre...</td>\n",
       "      <td>state-editions</td>\n",
       "    </tr>\n",
       "    <tr>\n",
       "      <th>593</th>\n",
       "      <td>In brief</td>\n",
       "      <td>JPPC holds mental health camp The Jharkhand ...</td>\n",
       "      <td>state-editions</td>\n",
       "    </tr>\n",
       "    <tr>\n",
       "      <th>594</th>\n",
       "      <td>Central and State Govt want to make farmers sl...</td>\n",
       "      <td>The Shivraj Singh Chauhan Government, sittin...</td>\n",
       "      <td>state-editions</td>\n",
       "    </tr>\n",
       "  </tbody>\n",
       "</table>\n",
       "<p>595 rows × 3 columns</p>\n",
       "</div>"
      ],
      "text/plain": [
       "                                                  head  \\\n",
       "0    LS clears changes in FCRA, Aadhaar must for NG...   \n",
       "1    Opp behaviour in Rajya Sabha ‘very shameful’: ...   \n",
       "2    UP to add 7,260 MW power generation by 2022: S...   \n",
       "3    Man rips open wife’s belly to ascertain foetus...   \n",
       "4    Maha Govt files plea in SC over its Maratha jo...   \n",
       "..                                                 ...   \n",
       "590  ‘Power of a woman should never be underestimated’   \n",
       "591  Adult female elephant dies of electrocution in...   \n",
       "592  Case filed against 22 Congmen in face blackeni...   \n",
       "593                                           In brief   \n",
       "594  Central and State Govt want to make farmers sl...   \n",
       "\n",
       "                                                  desc           topic  \n",
       "0      The Lok Sabha on Monday passed the amendment...           india  \n",
       "1      Asserting that it had a clear majority in th...           india  \n",
       "2      The Uttar Pradesh Government will increase i...           india  \n",
       "3      In a horrendous incident, a man ripped open ...           india  \n",
       "4      The Maharashtra Government has filed an appl...           india  \n",
       "..                                                 ...             ...  \n",
       "590    The power of a woman should never be underes...  state-editions  \n",
       "591    A 35-year-old female elephant died of electr...  state-editions  \n",
       "592    A case has been registered against 22 Congre...  state-editions  \n",
       "593    JPPC holds mental health camp The Jharkhand ...  state-editions  \n",
       "594    The Shivraj Singh Chauhan Government, sittin...  state-editions  \n",
       "\n",
       "[595 rows x 3 columns]"
      ]
     },
     "execution_count": 8,
     "metadata": {},
     "output_type": "execute_result"
    }
   ],
   "source": [
    "df1=pd.DataFrame(pioneer)\n",
    "df1"
   ]
  },
  {
   "cell_type": "code",
   "execution_count": 9,
   "metadata": {},
   "outputs": [],
   "source": [
    "driver.quit()"
   ]
  },
  {
   "cell_type": "markdown",
   "metadata": {},
   "source": [
    "# **TELEGRAPH**"
   ]
  },
  {
   "cell_type": "code",
   "execution_count": 10,
   "metadata": {},
   "outputs": [],
   "source": [
    "#scrapping news\n",
    "tele={}\n",
    "tele['head']=[]\n",
    "tele['desc']=[]\n",
    "tele['topic']=[]\n",
    "link=[]\n",
    "temp=[]\n",
    "\n",
    "def scrapper(driver,page,top):\n",
    "    driver.execute_script(\"window.scrollTo(0,document.body.scrollHeight)\")\n",
    "    time.sleep(12)\n",
    "\n",
    "    links=driver.find_elements_by_xpath(\"//h2[@class='fs-22 noto-regular']//a\")\n",
    "\n",
    "    \n",
    "    \n",
    "    \n",
    "    for i in links:\n",
    "        temp.append(i.get_attribute('href'))\n",
    "    \n",
    "    for li in temp:\n",
    "        if li not in link:\n",
    "            link.append(li)   #getting unique/unduplicated links of news\n",
    "            tele['topic'].append(top)"
   ]
  },
  {
   "cell_type": "code",
   "execution_count": 11,
   "metadata": {},
   "outputs": [],
   "source": [
    "chrome_options = webdriver.ChromeOptions()\n",
    "prefs = {\"profile.default_content_setting_values.notifications\" : 2}\n",
    "chrome_options.add_experimental_option(\"prefs\",prefs)\n",
    "#this news paper is generating warning so to disable it........\n",
    "\n",
    "driver=webdriver.Chrome(executable_path=r\"C:\\Users\\mishr\\driver\\cd.exe\")"
   ]
  },
  {
   "cell_type": "code",
   "execution_count": 12,
   "metadata": {},
   "outputs": [
    {
     "name": "stdout",
     "output_type": "stream",
     "text": [
      "URL=  https://www.telegraphindia.com/states\n",
      "extraction completed.Time elasped= 6.51 minutes.\n",
      "\n",
      "URL=  https://www.telegraphindia.com/world\n",
      "extraction completed.Time elasped= 6.2 minutes.\n",
      "\n",
      "URL=  https://www.telegraphindia.com/business\n",
      "extraction completed.Time elasped= 6.2 minutes.\n",
      "\n",
      "URL=  https://www.telegraphindia.com/sports\n",
      "extraction completed.Time elasped= 6.4 minutes.\n",
      "\n"
     ]
    }
   ],
   "source": [
    "#getting topics to scrap\n",
    "start=30\n",
    "end=48\n",
    "href=[\"states\",\"world\",\"business\",\"sports\"]\n",
    "\n",
    "\n",
    "for x in href:\n",
    "    start_time=time.time()\n",
    "    url=\"https://www.telegraphindia.com/\"+x\n",
    "    driver.get(url)\n",
    "    time.sleep(10)\n",
    "    current=driver.current_url\n",
    "    print(\"URL= \",current)\n",
    "    time.sleep(5)\n",
    "    for y in range (start,end):     \n",
    "        \n",
    "        try:\n",
    "            scrapper(driver=driver,page=y,top=x)\n",
    "            next_page=\"https://www.telegraphindia.com/\"+x+'/page-'+str(y+1)\n",
    "            driver.get(next_page)\n",
    "            time.sleep(7)\n",
    "            \n",
    "        except ser:\n",
    "            print('error while scrapping')\n",
    "            error_page=\"https://www.telegraphindia.com/\"+x+'/page-'+str(y+1)\n",
    "            error_url= error_page\n",
    "            driver.get(error_url)\n",
    "            scrapper(driver=driver,page=x)\n",
    "            next_page=\"https://www.telegraphindia.com/\"+x+'/page-'+str(y+1)\n",
    "            driver.get(next_page)\n",
    "            time.sleep(5)\n",
    "        \n",
    "    end_time=time.time()\n",
    "    print('extraction completed.Time elasped=',round((end_time-start_time)/60,2),'minutes.\\n')"
   ]
  },
  {
   "cell_type": "code",
   "execution_count": 13,
   "metadata": {},
   "outputs": [
    {
     "name": "stdout",
     "output_type": "stream",
     "text": [
      "topic== 720 \n",
      "link== 720\n"
     ]
    }
   ],
   "source": [
    "print(\"topic==\",len(tele['topic']),'\\nlink==',len(link))"
   ]
  },
  {
   "cell_type": "code",
   "execution_count": 15,
   "metadata": {},
   "outputs": [
    {
     "name": "stdout",
     "output_type": "stream",
     "text": [
      "Task Completed\n"
     ]
    }
   ],
   "source": [
    "#getting the news\n",
    "\n",
    "for i in link:\n",
    "    driver.get(i)\n",
    "    time.sleep(7)\n",
    "    element1= driver.find_elements_by_xpath(\"//div[@class='fs-17 pt-2 noto-regular']\")\n",
    "    \n",
    "    element2= driver.find_elements_by_tag_name('h1')\n",
    "    \n",
    "    article=''\n",
    "    \n",
    "    for x in element1:\n",
    "        article = article + ' ' +  x.text\n",
    "    tele['desc'].append(article)\n",
    "        \n",
    "    for y in element2:\n",
    "        tele['head'].append(y.text)\n",
    "print('Task Completed')"
   ]
  },
  {
   "cell_type": "code",
   "execution_count": 16,
   "metadata": {},
   "outputs": [
    {
     "name": "stdout",
     "output_type": "stream",
     "text": [
      "head 720 description 720\n"
     ]
    }
   ],
   "source": [
    "print('head',len(tele['head']),'description',len(tele['desc']))"
   ]
  },
  {
   "cell_type": "code",
   "execution_count": 17,
   "metadata": {},
   "outputs": [],
   "source": [
    "df2=pd.DataFrame(tele)"
   ]
  },
  {
   "cell_type": "code",
   "execution_count": 19,
   "metadata": {},
   "outputs": [
    {
     "data": {
      "text/html": [
       "<div>\n",
       "<style scoped>\n",
       "    .dataframe tbody tr th:only-of-type {\n",
       "        vertical-align: middle;\n",
       "    }\n",
       "\n",
       "    .dataframe tbody tr th {\n",
       "        vertical-align: top;\n",
       "    }\n",
       "\n",
       "    .dataframe thead th {\n",
       "        text-align: right;\n",
       "    }\n",
       "</style>\n",
       "<table border=\"1\" class=\"dataframe\">\n",
       "  <thead>\n",
       "    <tr style=\"text-align: right;\">\n",
       "      <th></th>\n",
       "      <th>head</th>\n",
       "      <th>desc</th>\n",
       "      <th>topic</th>\n",
       "    </tr>\n",
       "  </thead>\n",
       "  <tbody>\n",
       "    <tr>\n",
       "      <th>0</th>\n",
       "      <td>LS clears changes in FCRA, Aadhaar must for NG...</td>\n",
       "      <td>The Lok Sabha on Monday passed the amendment...</td>\n",
       "      <td>india</td>\n",
       "    </tr>\n",
       "    <tr>\n",
       "      <th>1</th>\n",
       "      <td>Opp behaviour in Rajya Sabha ‘very shameful’: ...</td>\n",
       "      <td>Asserting that it had a clear majority in th...</td>\n",
       "      <td>india</td>\n",
       "    </tr>\n",
       "    <tr>\n",
       "      <th>2</th>\n",
       "      <td>UP to add 7,260 MW power generation by 2022: S...</td>\n",
       "      <td>The Uttar Pradesh Government will increase i...</td>\n",
       "      <td>india</td>\n",
       "    </tr>\n",
       "    <tr>\n",
       "      <th>3</th>\n",
       "      <td>Man rips open wife’s belly to ascertain foetus...</td>\n",
       "      <td>In a horrendous incident, a man ripped open ...</td>\n",
       "      <td>india</td>\n",
       "    </tr>\n",
       "    <tr>\n",
       "      <th>4</th>\n",
       "      <td>Maha Govt files plea in SC over its Maratha jo...</td>\n",
       "      <td>The Maharashtra Government has filed an appl...</td>\n",
       "      <td>india</td>\n",
       "    </tr>\n",
       "    <tr>\n",
       "      <th>5</th>\n",
       "      <td>MAHA LOGS RECORD 32,007 RECOVERIES, AS COVID D...</td>\n",
       "      <td>Maharashtra notched a new record of 32,007 C...</td>\n",
       "      <td>india</td>\n",
       "    </tr>\n",
       "    <tr>\n",
       "      <th>6</th>\n",
       "      <td>NCB LIKELY TO QUIZ ACTRESSES SARA, RAKUL, DESI...</td>\n",
       "      <td>Amid the likelihood of Bollywood actresses S...</td>\n",
       "      <td>india</td>\n",
       "    </tr>\n",
       "    <tr>\n",
       "      <th>7</th>\n",
       "      <td>12 killed, 10 others hurt as Thane building co...</td>\n",
       "      <td>At least 12 persons, including seven childre...</td>\n",
       "      <td>india</td>\n",
       "    </tr>\n",
       "    <tr>\n",
       "      <th>8</th>\n",
       "      <td>Didi calls Opp to unite against ‘Hitler Raj’</td>\n",
       "      <td>Bengal Chief Minister Mamata Banerjee has re...</td>\n",
       "      <td>india</td>\n",
       "    </tr>\n",
       "  </tbody>\n",
       "</table>\n",
       "</div>"
      ],
      "text/plain": [
       "                                                head  \\\n",
       "0  LS clears changes in FCRA, Aadhaar must for NG...   \n",
       "1  Opp behaviour in Rajya Sabha ‘very shameful’: ...   \n",
       "2  UP to add 7,260 MW power generation by 2022: S...   \n",
       "3  Man rips open wife’s belly to ascertain foetus...   \n",
       "4  Maha Govt files plea in SC over its Maratha jo...   \n",
       "5  MAHA LOGS RECORD 32,007 RECOVERIES, AS COVID D...   \n",
       "6  NCB LIKELY TO QUIZ ACTRESSES SARA, RAKUL, DESI...   \n",
       "7  12 killed, 10 others hurt as Thane building co...   \n",
       "8       Didi calls Opp to unite against ‘Hitler Raj’   \n",
       "\n",
       "                                                desc  topic  \n",
       "0    The Lok Sabha on Monday passed the amendment...  india  \n",
       "1    Asserting that it had a clear majority in th...  india  \n",
       "2    The Uttar Pradesh Government will increase i...  india  \n",
       "3    In a horrendous incident, a man ripped open ...  india  \n",
       "4    The Maharashtra Government has filed an appl...  india  \n",
       "5    Maharashtra notched a new record of 32,007 C...  india  \n",
       "6    Amid the likelihood of Bollywood actresses S...  india  \n",
       "7    At least 12 persons, including seven childre...  india  \n",
       "8    Bengal Chief Minister Mamata Banerjee has re...  india  "
      ]
     },
     "execution_count": 19,
     "metadata": {},
     "output_type": "execute_result"
    }
   ],
   "source": [
    "test_news=df1.append(df2,ignore_index=True)\n",
    "test_news.head(9)"
   ]
  },
  {
   "cell_type": "code",
   "execution_count": 22,
   "metadata": {},
   "outputs": [],
   "source": [
    "#SAVING DATAFRAME TO CSV\n",
    "test_news.to_csv(r'news_scrapping/news_test.csv',index=False)"
   ]
  },
  {
   "cell_type": "code",
   "execution_count": null,
   "metadata": {},
   "outputs": [],
   "source": []
  }
 ],
 "metadata": {
  "kernelspec": {
   "display_name": "Python 3",
   "language": "python",
   "name": "python3"
  },
  "language_info": {
   "codemirror_mode": {
    "name": "ipython",
    "version": 3
   },
   "file_extension": ".py",
   "mimetype": "text/x-python",
   "name": "python",
   "nbconvert_exporter": "python",
   "pygments_lexer": "ipython3",
   "version": "3.7.7"
  }
 },
 "nbformat": 4,
 "nbformat_minor": 4
}
