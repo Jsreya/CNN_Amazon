{
 "cells": [
  {
   "cell_type": "markdown",
   "metadata": {},
   "source": [
    "# **REUTERS**"
   ]
  },
  {
   "cell_type": "code",
   "execution_count": 1,
   "metadata": {},
   "outputs": [],
   "source": [
    "from selenium import webdriver\n",
    "from selenium.webdriver.support.ui import WebDriverWait as wdt\n",
    "from selenium.webdriver.support import expected_conditions as ec\n",
    "from selenium.common.exceptions import StaleElementReferenceException as ser\n",
    "from selenium.webdriver.common.by import By\n",
    "from selenium.webdriver.common.keys import Keys\n",
    "import os\n",
    "import time\n",
    "import pandas as pd"
   ]
  },
  {
   "cell_type": "code",
   "execution_count": 2,
   "metadata": {},
   "outputs": [],
   "source": [
    "#scrapping news\n",
    "reuter={}\n",
    "reuter['head']=[] #for heading\n",
    "reuter['desc']=[] #for total news\n",
    "reuter['topic']=[]  #news kind\n",
    "\n",
    "link=[]\n",
    "temp=[]\n",
    "def scrapper(driver,page,top):\n",
    "       \n",
    "    driver.execute_script(\"window.scrollTo(0,document.body.scrollHeight)\")\n",
    "    time.sleep(12)\n",
    "\n",
    "   \n",
    "            \n",
    "    links=driver.find_elements_by_xpath(\"//article[@class='story ']//a\")\n",
    "    \n",
    "  \n",
    "    #link to news\n",
    "    for i in links:\n",
    "        temp.append(i.get_attribute('href'))\n",
    "    \n",
    "    for li in temp:\n",
    "        if li not in link:\n",
    "            link.append(li)   #getting unique/unduplicated links of news\n",
    "            reuter['topic'].append(top)\n",
    "        \n",
    "   \n",
    "   "
   ]
  },
  {
   "cell_type": "code",
   "execution_count": 3,
   "metadata": {},
   "outputs": [],
   "source": [
    "chrome_options = webdriver.ChromeOptions()\n",
    "prefs = {\"profile.default_content_setting_values.notifications\" : 2}\n",
    "chrome_options.add_experimental_option(\"prefs\",prefs)\n",
    "#this news paper is generating warning so to disable it........\n",
    "\n",
    "driver=webdriver.Chrome(executable_path=r\"C:\\Users\\hp\\cdriver.exe\")"
   ]
  },
  {
   "cell_type": "code",
   "execution_count": 4,
   "metadata": {},
   "outputs": [],
   "source": [
    "url=\"https://in.reuters.com/\"\n",
    "driver.get(url)\n",
    "time.sleep(10)"
   ]
  },
  {
   "cell_type": "code",
   "execution_count": 5,
   "metadata": {},
   "outputs": [
    {
     "name": "stdout",
     "output_type": "stream",
     "text": [
      "TITLE=  REUTERS BUSINESS & FINANCE - BUSINESS NEWS INDIA, LATEST FINANCIAL NEWS, FINANCE BUSINESS HEADLINES, INDIA\n",
      "URL=  https://in.reuters.com/finance\n",
      "Business\n",
      "extraction of  https://in.reuters.com/finance  completed.Time elasped= 16.71 minutes. Moving next\n",
      "\n",
      "TITLE=  LATEST NEWS HEADLINES, BREAKING NEWS TODAY, INDIA\n",
      "URL=  https://in.reuters.com/news/top-news\n",
      "India\n",
      "extraction of  https://in.reuters.com/news/top-news  completed.Time elasped= 16.69 minutes. Moving next\n",
      "\n",
      "TITLE=  WORLD NEWS, INTERNATIONAL NEWS, WORLD NEWS HEADLINES ON REUTERS INDIA\n",
      "URL=  https://in.reuters.com/news/world\n",
      "World\n",
      "extraction of  https://in.reuters.com/news/world  completed.Time elasped= 16.76 minutes. Moving next\n",
      "\n",
      "TITLE=  TECHNOLOGY NEWS – NEWS ON MOBILE, IT, COMPUTERS, INFORMATION TECHNOLOGY, NEW TECHNOLOGY\n",
      "URL=  https://in.reuters.com/news/technology\n",
      "Tech\n",
      "extraction of  https://in.reuters.com/news/technology  completed.Time elasped= 17.1 minutes. Moving next\n",
      "\n",
      "TITLE=  SPORTS NEWS - SPORTS HEADLINES, CRICKET, SOCCER & WORLD SPORTS | REUTERS INDIA\n",
      "URL=  https://in.reuters.com/news/sports\n",
      "Sport & Life\n",
      "extraction of  https://in.reuters.com/news/sports  completed.Time elasped= 17.32 minutes. Moving next\n",
      "\n"
     ]
    }
   ],
   "source": [
    "#getting topics to scrap\n",
    "start=1\n",
    "end=50\n",
    "id=[\"nav-item-2\",\"nav-item-4\",\"nav-item-6\",\"nav-item-7\",\"nav-item-9\"]  #id of fields to scrap\n",
    "\n",
    "\n",
    "for x in id:\n",
    "    start_time=time.time()\n",
    "    driver.find_element_by_id(x).click()\n",
    "    time.sleep(10)\n",
    "    print(\"TITLE= \",driver.title.upper())\n",
    "    url=driver.current_url\n",
    "    print(\"URL= \",url)\n",
    "    \n",
    "    topics=driver.find_element_by_id(x)\n",
    "    top=topics.text\n",
    "    print(top)\n",
    "    \n",
    "    button=driver.find_element_by_class_name(\"control-nav-next\")  #will start scrapping from 2nd page\n",
    "    button.click()\n",
    "    time.sleep(7)\n",
    "    for y in range (start,end):     \n",
    "        \n",
    "        try:\n",
    "            scrapper(driver=driver,page=y,top=top)\n",
    "           \n",
    "            button=driver.find_element_by_class_name(\"control-nav-next\")\n",
    "            wait= wdt(driver,20)\n",
    "            wait.until(ec.element_to_be_clickable((By.CLASS_NAME,\"control-nav-next\")))\n",
    "            button.click()\n",
    "            time.sleep(7)\n",
    "            \n",
    "        except ser:\n",
    "            print('error while scrapping')\n",
    "            error_page=driver.find_element_by_class_name(\"control-nav-next\").text\n",
    "            error_url= error_page.get_attribute('href')\n",
    "            driver.get(error_url)\n",
    "            scrapper(driver=driver,page=x)\n",
    "            button=driver.find_element_by_class_name(\"control-nav-next\")\n",
    "            button.click()\n",
    "            time.sleep(5)\n",
    "    end_time=time.time()\n",
    "\n",
    "    print('extraction of ',url,' completed.Time elasped=',round((end_time-start_time)/60,2),'minutes.', 'Moving next\\n')"
   ]
  },
  {
   "cell_type": "code",
   "execution_count": 6,
   "metadata": {},
   "outputs": [
    {
     "name": "stdout",
     "output_type": "stream",
     "text": [
      "topic== 2151 \n",
      "link== 2151\n"
     ]
    }
   ],
   "source": [
    "print(\"topic==\",len(reuter['topic']),'\\nlink==',len(link))"
   ]
  },
  {
   "cell_type": "code",
   "execution_count": 7,
   "metadata": {},
   "outputs": [],
   "source": [
    "#getting the news\n",
    "for i in link:\n",
    "    driver.get(i)\n",
    "    time.sleep(7)\n",
    "    element1= driver.find_elements_by_xpath(\"//p[@class='Paragraph-paragraph-2Bgue ArticleBody-para-TD_9x']\")\n",
    "    element2= driver.find_elements_by_tag_name('h1')\n",
    "    \n",
    "    article=''\n",
    "    \n",
    "    for x in element1:\n",
    "        article = article + ' ' +  x.text\n",
    "    reuter['desc'].append(article)\n",
    "        \n",
    "    for y in element2:\n",
    "        reuter['head'].append(y.text)"
   ]
  },
  {
   "cell_type": "code",
   "execution_count": 8,
   "metadata": {},
   "outputs": [
    {
     "name": "stdout",
     "output_type": "stream",
     "text": [
      "head== 2151 description== 2151\n"
     ]
    }
   ],
   "source": [
    "print(\"head==\",len(reuter['head']),'description==',len(reuter['desc']))"
   ]
  },
  {
   "cell_type": "code",
   "execution_count": 9,
   "metadata": {},
   "outputs": [
    {
     "data": {
      "text/html": [
       "<div>\n",
       "<style scoped>\n",
       "    .dataframe tbody tr th:only-of-type {\n",
       "        vertical-align: middle;\n",
       "    }\n",
       "\n",
       "    .dataframe tbody tr th {\n",
       "        vertical-align: top;\n",
       "    }\n",
       "\n",
       "    .dataframe thead th {\n",
       "        text-align: right;\n",
       "    }\n",
       "</style>\n",
       "<table border=\"1\" class=\"dataframe\">\n",
       "  <thead>\n",
       "    <tr style=\"text-align: right;\">\n",
       "      <th></th>\n",
       "      <th>head</th>\n",
       "      <th>desc</th>\n",
       "      <th>topic</th>\n",
       "    </tr>\n",
       "  </thead>\n",
       "  <tbody>\n",
       "    <tr>\n",
       "      <th>186</th>\n",
       "      <td>Fed defends 'pedal to the metal' policy and is...</td>\n",
       "      <td>NEW YORK (Reuters) - One key investor takeawa...</td>\n",
       "      <td>Business</td>\n",
       "    </tr>\n",
       "    <tr>\n",
       "      <th>1275</th>\n",
       "      <td>Bronze statue of Melania Trump unveiled in Slo...</td>\n",
       "      <td>SEVNICA, Slovenia (Reuters) - A life-size rou...</td>\n",
       "      <td>World</td>\n",
       "    </tr>\n",
       "    <tr>\n",
       "      <th>741</th>\n",
       "      <td>Disqualification is worst moment of Djokovic's...</td>\n",
       "      <td>(Reuters) - Novak Djokovic’s stunning disqual...</td>\n",
       "      <td>India</td>\n",
       "    </tr>\n",
       "    <tr>\n",
       "      <th>1943</th>\n",
       "      <td>Tour de France director Prudhomme back on the ...</td>\n",
       "      <td>GRENOBLE, France (Reuters) - Tour de France d...</td>\n",
       "      <td>Sport &amp; Life</td>\n",
       "    </tr>\n",
       "    <tr>\n",
       "      <th>604</th>\n",
       "      <td>Factbox: List of men's Grand Slam winners sinc...</td>\n",
       "      <td>(Reuters) - Following is a list of men’s sing...</td>\n",
       "      <td>India</td>\n",
       "    </tr>\n",
       "    <tr>\n",
       "      <th>626</th>\n",
       "      <td>Explainer: Afghan-Taliban peace talks: who, wh...</td>\n",
       "      <td>KABUL (Reuters) - Talks seeking to end 19 yea...</td>\n",
       "      <td>India</td>\n",
       "    </tr>\n",
       "    <tr>\n",
       "      <th>925</th>\n",
       "      <td>Japan's Abe says health should hold up until s...</td>\n",
       "      <td>TOKYO (Reuters) - Japanese Prime Minister Shi...</td>\n",
       "      <td>India</td>\n",
       "    </tr>\n",
       "    <tr>\n",
       "      <th>1706</th>\n",
       "      <td>Leipzig make winning Bundesliga start without ...</td>\n",
       "      <td>BERLIN (Reuters) - RB Leipzig eased past Main...</td>\n",
       "      <td>Sport &amp; Life</td>\n",
       "    </tr>\n",
       "    <tr>\n",
       "      <th>299</th>\n",
       "      <td>U.S. median income hit record in 2019, Census ...</td>\n",
       "      <td>WASHINGTON (Reuters) - U.S. median household ...</td>\n",
       "      <td>Business</td>\n",
       "    </tr>\n",
       "    <tr>\n",
       "      <th>936</th>\n",
       "      <td>Wider Image: Taiwan plant hunters race to coll...</td>\n",
       "      <td>TAITUNG, Taiwan (Reuters) - In the forests an...</td>\n",
       "      <td>World</td>\n",
       "    </tr>\n",
       "  </tbody>\n",
       "</table>\n",
       "</div>"
      ],
      "text/plain": [
       "                                                   head  \\\n",
       "186   Fed defends 'pedal to the metal' policy and is...   \n",
       "1275  Bronze statue of Melania Trump unveiled in Slo...   \n",
       "741   Disqualification is worst moment of Djokovic's...   \n",
       "1943  Tour de France director Prudhomme back on the ...   \n",
       "604   Factbox: List of men's Grand Slam winners sinc...   \n",
       "626   Explainer: Afghan-Taliban peace talks: who, wh...   \n",
       "925   Japan's Abe says health should hold up until s...   \n",
       "1706  Leipzig make winning Bundesliga start without ...   \n",
       "299   U.S. median income hit record in 2019, Census ...   \n",
       "936   Wider Image: Taiwan plant hunters race to coll...   \n",
       "\n",
       "                                                   desc         topic  \n",
       "186    NEW YORK (Reuters) - One key investor takeawa...      Business  \n",
       "1275   SEVNICA, Slovenia (Reuters) - A life-size rou...         World  \n",
       "741    (Reuters) - Novak Djokovic’s stunning disqual...         India  \n",
       "1943   GRENOBLE, France (Reuters) - Tour de France d...  Sport & Life  \n",
       "604    (Reuters) - Following is a list of men’s sing...         India  \n",
       "626    KABUL (Reuters) - Talks seeking to end 19 yea...         India  \n",
       "925    TOKYO (Reuters) - Japanese Prime Minister Shi...         India  \n",
       "1706   BERLIN (Reuters) - RB Leipzig eased past Main...  Sport & Life  \n",
       "299    WASHINGTON (Reuters) - U.S. median household ...      Business  \n",
       "936    TAITUNG, Taiwan (Reuters) - In the forests an...         World  "
      ]
     },
     "execution_count": 9,
     "metadata": {},
     "output_type": "execute_result"
    }
   ],
   "source": [
    "rtr=pd.DataFrame(reuter)\n",
    "rtr.sample(10)"
   ]
  },
  {
   "cell_type": "code",
   "execution_count": 10,
   "metadata": {},
   "outputs": [],
   "source": [
    "driver.quit()"
   ]
  },
  {
   "cell_type": "markdown",
   "metadata": {},
   "source": [
    "# **THE TELEGRAPH**"
   ]
  },
  {
   "cell_type": "code",
   "execution_count": 11,
   "metadata": {},
   "outputs": [],
   "source": [
    "#scrapping news\n",
    "news2={}\n",
    "news2['head']=[]\n",
    "news2['desc']=[]\n",
    "news2['topic']=[]\n",
    "link=[]\n",
    "temp=[]\n",
    "\n",
    "def scrapper(driver,page,top):\n",
    "    driver.execute_script(\"window.scrollTo(0,document.body.scrollHeight)\")\n",
    "    time.sleep(12)\n",
    "\n",
    "    links=driver.find_elements_by_xpath(\"//h2[@class='fs-22 noto-regular']//a\")\n",
    "\n",
    "    \n",
    "    \n",
    "    \n",
    "    for i in links:\n",
    "        temp.append(i.get_attribute('href'))\n",
    "    \n",
    "    for li in temp:\n",
    "        if li not in link:\n",
    "            link.append(li)   #getting unique/unduplicated links of news\n",
    "            news2['topic'].append(top)"
   ]
  },
  {
   "cell_type": "code",
   "execution_count": 12,
   "metadata": {},
   "outputs": [],
   "source": [
    "chrome_options = webdriver.ChromeOptions()\n",
    "prefs = {\"profile.default_content_setting_values.notifications\" : 2}\n",
    "chrome_options.add_experimental_option(\"prefs\",prefs)\n",
    "#this news paper is generating warning so to disable it........\n",
    "\n",
    "driver=webdriver.Chrome(executable_path=r\"C:\\Users\\mishr\\driver\\cd.exe\")"
   ]
  },
  {
   "cell_type": "code",
   "execution_count": 13,
   "metadata": {},
   "outputs": [
    {
     "name": "stdout",
     "output_type": "stream",
     "text": [
      "URL=  https://www.telegraphindia.com/states\n",
      "extraction completed.Time elasped= 6.83 minutes.\n",
      "\n",
      "URL=  https://www.telegraphindia.com/world\n",
      "extraction completed.Time elasped= 6.67 minutes.\n",
      "\n",
      "URL=  https://www.telegraphindia.com/business\n",
      "extraction completed.Time elasped= 7.03 minutes.\n",
      "\n",
      "URL=  https://www.telegraphindia.com/sports\n",
      "extraction completed.Time elasped= 6.64 minutes.\n",
      "\n",
      "URL=  https://www.telegraphindia.com/culture\n",
      "extraction completed.Time elasped= 6.62 minutes.\n",
      "\n"
     ]
    }
   ],
   "source": [
    "#getting topics to scrap\n",
    "start=1\n",
    "end=20\n",
    "href=[\"states\",\"world\",\"business\",\"sports\",'culture']\n",
    "\n",
    "\n",
    "for x in href:\n",
    "    start_time=time.time()\n",
    "    url=\"https://www.telegraphindia.com/\"+x\n",
    "    driver.get(url)\n",
    "    time.sleep(10)\n",
    "    current=driver.current_url\n",
    "    print(\"URL= \",current)\n",
    "    time.sleep(5)\n",
    "    for y in range (start,end):     \n",
    "        \n",
    "        try:\n",
    "            scrapper(driver=driver,page=y,top=x)\n",
    "            next_page=\"https://www.telegraphindia.com/\"+x+'/page-'+str(y+1)\n",
    "            driver.get(next_page)\n",
    "            time.sleep(7)\n",
    "            \n",
    "        except ser:\n",
    "            print('error while scrapping')\n",
    "            error_page=\"https://www.telegraphindia.com/\"+x+'/page-'+str(y+1)\n",
    "            error_url= error_page\n",
    "            driver.get(error_url)\n",
    "            scrapper(driver=driver,page=x)\n",
    "            next_page=\"https://www.telegraphindia.com/\"+x+'/page-'+str(y+1)\n",
    "            driver.get(next_page)\n",
    "            time.sleep(5)\n",
    "        \n",
    "    end_time=time.time()\n",
    "    print('extraction completed.Time elasped=',round((end_time-start_time)/60,2),'minutes.\\n')"
   ]
  },
  {
   "cell_type": "code",
   "execution_count": 14,
   "metadata": {},
   "outputs": [
    {
     "name": "stdout",
     "output_type": "stream",
     "text": [
      "topic== 950 \n",
      "link== 950\n"
     ]
    }
   ],
   "source": [
    "print(\"topic==\",len(news2['topic']),'\\nlink==',len(link))"
   ]
  },
  {
   "cell_type": "code",
   "execution_count": 15,
   "metadata": {},
   "outputs": [],
   "source": [
    "#getting the news\n",
    "for i in link:\n",
    "    driver.get(i)\n",
    "    time.sleep(7)\n",
    "    element1= driver.find_elements_by_xpath(\"//div[@class='fs-17 pt-2 noto-regular']\")\n",
    "    \n",
    "    element2= driver.find_elements_by_tag_name('h1')\n",
    "    \n",
    "    article=''\n",
    "    \n",
    "    for x in element1:\n",
    "        article = article + ' ' +  x.text\n",
    "    news2['desc'].append(article)\n",
    "        \n",
    "    for y in element2:\n",
    "        news2['head'].append(y.text)"
   ]
  },
  {
   "cell_type": "code",
   "execution_count": 16,
   "metadata": {},
   "outputs": [
    {
     "name": "stdout",
     "output_type": "stream",
     "text": [
      "head 950 desc 950\n"
     ]
    }
   ],
   "source": [
    "print('head',len(news2['head']),'desc',len(news2['desc']))"
   ]
  },
  {
   "cell_type": "code",
   "execution_count": 17,
   "metadata": {},
   "outputs": [
    {
     "data": {
      "text/plain": [
       "['Sikkim body ups ante on hospitals',\n",
       " 'Ex-chief of Sikkim tourism body held under Pocso charges',\n",
       " 'Covid protocol breach case on duo in Sikkim',\n",
       " 'Don’t derail HIV combat: Forum']"
      ]
     },
     "execution_count": 17,
     "metadata": {},
     "output_type": "execute_result"
    }
   ],
   "source": [
    "news2['head'][3:7]"
   ]
  },
  {
   "cell_type": "code",
   "execution_count": 18,
   "metadata": {
    "scrolled": true
   },
   "outputs": [
    {
     "data": {
      "text/plain": [
       "[' The Sikkim Progressive Youth Forum has threatened to take to the streets if the government fails to upgrade facilities at state hospitals and ensure free medicine and health services by November 30.\\nIn a release issued on Monday, SPYF said the government had failed to deliver on the twin demands despite the assurance given to the forum by health minister Dr M.K. Sharma in February. \"We have no choice other than to issue an ultimatum to the government to fulfill the twopoint demands within Nov 30 2020, else, we will take to the streets,\" said the forum.\\nIn February, the SPYF had submitted a memorandum to the minister along with 10,000 signatures of the public in support of its demands for upgrading facilities at government hospitals according to the Indian Public Health Standard (IPHS) guidelines and provision for free medical services and medicines to the people. ‘Dr Sharma had assured us that our demands would be fulfilled within two months of the budget session, but the condition of the hospitals continue to remain the same even after five months of the budget session,’ it regretted.\\nThe SPYF said district hospitals apart, even the condition of primary health centres was in a pathetic state. “The condition of PHCs is so bad that people hardly go there. They are only there in name,” it alleged.\\nThe SPYF has been spearheading the campaign to upgrade health facilities in the state for two-and-a-half years. Besides the signature campaign, it had held mass movements on three different occasions. The forum had also organised ‘Gangtok Chalo’ march from Geyzing in West Sikkim to Gangtok in January 2019 to highlight the abysmal condition of the Geyzing District Hospital.\\nAdvertisement\\nPowered By PLAYSTREAM',\n",
       " ' Rup Narayan Rai, a former chairman of the Sikkim Tourism Development Corporation, was arrested on the charges of sexually assaulting a minor girl after he surrendered before South Sikkim police on Monday.\\nRai, 53, had been absconding since Friday night after a family member of the victim had lodged a complaint of sexual assault against Rai at the Melli police station. The police had launched a search for Rai in South Sikkim.\\nRai is alleged to have assaulted the 13-year-old at his house in Sadam village on several occasions. The girl from a remote village in the South Sikkim had been staying with his family for the past few months to pursue her education.\\nThe police have said Rai has been booked under relevant sections of the Protection of Children from Sexual Offences Act, 2012. “He will be produced in a court in Namchi (South Sikkim) in 24 hours,” said Prawin Gurung, the deputy inspector general of police, Range.\\nThe Sikkim Democratic Front, under whose government Rai had served as the STDC chairman, suspended him until the completion of the process of law.',\n",
       " ' Sikkim police on Monday filed a case against two visiting technicians who tested positive for Covid-19 for allegedly violating the Covid-19 protocol and endangering the lives of others.\\nThe duo were part of a five-member team from Calcutta and Delhi and visited Gangtok on August 6 for maintenance work at State Data Centre at the IT department’s invitation.\\nIT secretary Mrinalini Shrivastava sought special permission from the East Sikkim administration for the team’s entry. Granting permission, the district administration had stated that the team would have to undergo rapid antigen test at the entry point, and travel to their places of work and stay in an ambulance under police cover at all times.\\nDuring their week-plus stay, the team visited other places and met some MLAs, including Aditya Golay, son of chief minister P.S. Tamang (Golay), and bureaucrats at meetings facilitated by the IT department. Two team members tested positive on Sunday.\\nThe police filed a case against the two under IPC sections for disobedience of public order and endangering lives of others, and for refusing to comply with the government directive under the Disaster Management Act, 2005.\\nS. C. Gupta, the state’s chief secretary, sought an explanation from IT secretary Shrivastava on the issue.\\nSince some meetings took place at the Tashiling secretariat in Gangtok, the entire complex has been declared as a containment zone.\\nThe incident created a furore in Sikkim with many wondering why the administration had not acted with same alacrity against politicians and bureaucrats as they did against the technician duo.',\n",
       " ' The Sikkim Drug Users’ Forum (SDUF) has expressed fears that HIV prevention activities may have taken a back seat in Sikkim because of an allegedly lax state health department amid the Covid-19 pandemic.\\nForum president Rinzing Bhutia said HIV prevention programme should not be derailed despite the prevailing Covid pandemic.\\n“An emerging public health crisis should not be the reason to derail the handling of an existing crisis,” she said.\\nCiting an example of the department’s alleged casual attitude, Bhutia said a counsellor attached to the oral substitute therapy (OST) centre at Jorethang Hospital and a technician at the integrated counselling and testing centre (ICTC) at Namchi District Hospital were transferred over a year back, but their replacements had not yet arrived.\\nEven more perplexing is the fact that the two persons who had been transferred worked for the State AIDS Control Society under the National AIDS Control Organisation (Naco) of the Union health ministry, she said.\\nBhutia added that the two persons who were transferred had been trained and experienced persons. Such transfers affect the continuity of effective HIV service deliveries, she said.\\n“Ideally, we would want the department to retransfer both to their original places of posting instead of giving replacements,” she added.\\nThe SDUF president also said her organisation had written to Sikkim health minister M.K. Sharma on July 6 on the issue, but got no response.\\n“If there is no positive action on the issue, the health minister will be held accountable for any loss of life and the spread of new HIV infections in the state,” she warned.\\nSources said Sikkim now has a little over 200 patients under antiretroviral therapy, or the HIV treatment regime.\\nThe Telegraph could not contact the health minister on phone despite repeated attempts.\\nThe Sikkim Drug Users’ Forum initiates community-led action for the health and rights of the people who use drugs.\\nThe SDUF has said that during the Covid-induced lockdown in Sikkim, it has been “tirelessly delivering crucial life-saving medicines to people suffering from HIV”, among others.']"
      ]
     },
     "execution_count": 18,
     "metadata": {},
     "output_type": "execute_result"
    }
   ],
   "source": [
    "news2['desc'][3:7]"
   ]
  },
  {
   "cell_type": "code",
   "execution_count": 19,
   "metadata": {},
   "outputs": [
    {
     "data": {
      "text/html": [
       "<div>\n",
       "<style scoped>\n",
       "    .dataframe tbody tr th:only-of-type {\n",
       "        vertical-align: middle;\n",
       "    }\n",
       "\n",
       "    .dataframe tbody tr th {\n",
       "        vertical-align: top;\n",
       "    }\n",
       "\n",
       "    .dataframe thead th {\n",
       "        text-align: right;\n",
       "    }\n",
       "</style>\n",
       "<table border=\"1\" class=\"dataframe\">\n",
       "  <thead>\n",
       "    <tr style=\"text-align: right;\">\n",
       "      <th></th>\n",
       "      <th>head</th>\n",
       "      <th>desc</th>\n",
       "      <th>topic</th>\n",
       "    </tr>\n",
       "  </thead>\n",
       "  <tbody>\n",
       "    <tr>\n",
       "      <th>128</th>\n",
       "      <td>BJP backs arrested Bengal Congress leader</td>\n",
       "      <td>A BJP team on Friday visited the Agarpara hou...</td>\n",
       "      <td>states</td>\n",
       "    </tr>\n",
       "    <tr>\n",
       "      <th>465</th>\n",
       "      <td>Texmaco Rail shelves rights issue</td>\n",
       "      <td>Texmaco Rail and Engineering on Wednesday sai...</td>\n",
       "      <td>business</td>\n",
       "    </tr>\n",
       "    <tr>\n",
       "      <th>734</th>\n",
       "      <td>Aussies drop to fourth spot</td>\n",
       "      <td></td>\n",
       "      <td>sports</td>\n",
       "    </tr>\n",
       "    <tr>\n",
       "      <th>584</th>\n",
       "      <td>Indian Premier League: The show must go on. Le...</td>\n",
       "      <td>Twelve seasons earlier, the “supranational” I...</td>\n",
       "      <td>sports</td>\n",
       "    </tr>\n",
       "    <tr>\n",
       "      <th>255</th>\n",
       "      <td>Vaccine in phase 3 offered to Sinovac staff</td>\n",
       "      <td>About 90 per cent of Sinovac Biotech Ltd empl...</td>\n",
       "      <td>world</td>\n",
       "    </tr>\n",
       "    <tr>\n",
       "      <th>939</th>\n",
       "      <td>Sunday fun day at the Westin Kolkata</td>\n",
       "      <td></td>\n",
       "      <td>culture</td>\n",
       "    </tr>\n",
       "    <tr>\n",
       "      <th>181</th>\n",
       "      <td>Cyclone threatens to derail girl’s lone march ...</td>\n",
       "      <td>She is the only girl from the village of Ghor...</td>\n",
       "      <td>states</td>\n",
       "    </tr>\n",
       "    <tr>\n",
       "      <th>290</th>\n",
       "      <td>Trump can’t stop the violence, says Biden</td>\n",
       "      <td>Joseph R. Biden Jr on Monday issued a forcefu...</td>\n",
       "      <td>world</td>\n",
       "    </tr>\n",
       "    <tr>\n",
       "      <th>218</th>\n",
       "      <td>Life on Venus? Astronomers see a signal in its...</td>\n",
       "      <td>High in the toxic atmosphere of the planet Ve...</td>\n",
       "      <td>world</td>\n",
       "    </tr>\n",
       "  </tbody>\n",
       "</table>\n",
       "</div>"
      ],
      "text/plain": [
       "                                                  head  \\\n",
       "128          BJP backs arrested Bengal Congress leader   \n",
       "465                  Texmaco Rail shelves rights issue   \n",
       "734                        Aussies drop to fourth spot   \n",
       "584  Indian Premier League: The show must go on. Le...   \n",
       "255        Vaccine in phase 3 offered to Sinovac staff   \n",
       "939               Sunday fun day at the Westin Kolkata   \n",
       "181  Cyclone threatens to derail girl’s lone march ...   \n",
       "290          Trump can’t stop the violence, says Biden   \n",
       "218  Life on Venus? Astronomers see a signal in its...   \n",
       "\n",
       "                                                  desc     topic  \n",
       "128   A BJP team on Friday visited the Agarpara hou...    states  \n",
       "465   Texmaco Rail and Engineering on Wednesday sai...  business  \n",
       "734                                                       sports  \n",
       "584   Twelve seasons earlier, the “supranational” I...    sports  \n",
       "255   About 90 per cent of Sinovac Biotech Ltd empl...     world  \n",
       "939                                                      culture  \n",
       "181   She is the only girl from the village of Ghor...    states  \n",
       "290   Joseph R. Biden Jr on Monday issued a forcefu...     world  \n",
       "218   High in the toxic atmosphere of the planet Ve...     world  "
      ]
     },
     "execution_count": 19,
     "metadata": {},
     "output_type": "execute_result"
    }
   ],
   "source": [
    "tlg=pd.DataFrame(news2)\n",
    "tlg.sample(9)"
   ]
  },
  {
   "cell_type": "code",
   "execution_count": 20,
   "metadata": {},
   "outputs": [],
   "source": [
    "#function to create directory\n",
    "\n",
    "def save_data(directory_name):\n",
    "    \n",
    "    CurrentPath=os.getcwd()\n",
    "    path=os.path.join(CurrentPath,directory_name)\n",
    "    if not os.path.exists(path):\n",
    "        os.makedirs(path)\n",
    "    print('Directory {0} has been Created\\n\\n'.format(directory_name))"
   ]
  },
  {
   "cell_type": "code",
   "execution_count": 21,
   "metadata": {},
   "outputs": [
    {
     "name": "stdout",
     "output_type": "stream",
     "text": [
      "Directory news_scrapping has been Created\n",
      "\n",
      "\n"
     ]
    }
   ],
   "source": [
    "#CREATING DIRECTORY AND SAVING THE FILE\n",
    "save_data('news_scrapping')"
   ]
  },
  {
   "cell_type": "code",
   "execution_count": 22,
   "metadata": {},
   "outputs": [
    {
     "data": {
      "text/html": [
       "<div>\n",
       "<style scoped>\n",
       "    .dataframe tbody tr th:only-of-type {\n",
       "        vertical-align: middle;\n",
       "    }\n",
       "\n",
       "    .dataframe tbody tr th {\n",
       "        vertical-align: top;\n",
       "    }\n",
       "\n",
       "    .dataframe thead th {\n",
       "        text-align: right;\n",
       "    }\n",
       "</style>\n",
       "<table border=\"1\" class=\"dataframe\">\n",
       "  <thead>\n",
       "    <tr style=\"text-align: right;\">\n",
       "      <th></th>\n",
       "      <th>head</th>\n",
       "      <th>desc</th>\n",
       "      <th>topic</th>\n",
       "    </tr>\n",
       "  </thead>\n",
       "  <tbody>\n",
       "    <tr>\n",
       "      <th>0</th>\n",
       "      <td>India's Petronet buys LNG cargo for November d...</td>\n",
       "      <td>SINGAPORE (Reuters) - India’s Petronet LNG bo...</td>\n",
       "      <td>Business</td>\n",
       "    </tr>\n",
       "    <tr>\n",
       "      <th>1</th>\n",
       "      <td>Deutsche Bank: Global GDP to hit pre-COVID-19 ...</td>\n",
       "      <td>LONDON (Reuters) - World economic output will...</td>\n",
       "      <td>Business</td>\n",
       "    </tr>\n",
       "    <tr>\n",
       "      <th>2</th>\n",
       "      <td>France's Iliad makes $4.2 billion bid for Poli...</td>\n",
       "      <td>PARIS (Reuters) - France's Iliad ILD.PA moved...</td>\n",
       "      <td>Business</td>\n",
       "    </tr>\n",
       "    <tr>\n",
       "      <th>3</th>\n",
       "      <td>UK's Informa posts first-half loss after nearl...</td>\n",
       "      <td>(Reuters) - Informa Plc, the world’s largest ...</td>\n",
       "      <td>Business</td>\n",
       "    </tr>\n",
       "    <tr>\n",
       "      <th>4</th>\n",
       "      <td>Spain faces unusual problem: how to spend bill...</td>\n",
       "      <td>MADRID (Reuters) - After securing a generous ...</td>\n",
       "      <td>Business</td>\n",
       "    </tr>\n",
       "  </tbody>\n",
       "</table>\n",
       "</div>"
      ],
      "text/plain": [
       "                                                head  \\\n",
       "0  India's Petronet buys LNG cargo for November d...   \n",
       "1  Deutsche Bank: Global GDP to hit pre-COVID-19 ...   \n",
       "2  France's Iliad makes $4.2 billion bid for Poli...   \n",
       "3  UK's Informa posts first-half loss after nearl...   \n",
       "4  Spain faces unusual problem: how to spend bill...   \n",
       "\n",
       "                                                desc     topic  \n",
       "0   SINGAPORE (Reuters) - India’s Petronet LNG bo...  Business  \n",
       "1   LONDON (Reuters) - World economic output will...  Business  \n",
       "2   PARIS (Reuters) - France's Iliad ILD.PA moved...  Business  \n",
       "3   (Reuters) - Informa Plc, the world’s largest ...  Business  \n",
       "4   MADRID (Reuters) - After securing a generous ...  Business  "
      ]
     },
     "execution_count": 22,
     "metadata": {},
     "output_type": "execute_result"
    }
   ],
   "source": [
    "rtr.head(5)"
   ]
  },
  {
   "cell_type": "code",
   "execution_count": 23,
   "metadata": {},
   "outputs": [
    {
     "data": {
      "text/html": [
       "<div>\n",
       "<style scoped>\n",
       "    .dataframe tbody tr th:only-of-type {\n",
       "        vertical-align: middle;\n",
       "    }\n",
       "\n",
       "    .dataframe tbody tr th {\n",
       "        vertical-align: top;\n",
       "    }\n",
       "\n",
       "    .dataframe thead th {\n",
       "        text-align: right;\n",
       "    }\n",
       "</style>\n",
       "<table border=\"1\" class=\"dataframe\">\n",
       "  <thead>\n",
       "    <tr style=\"text-align: right;\">\n",
       "      <th></th>\n",
       "      <th>head</th>\n",
       "      <th>desc</th>\n",
       "      <th>topic</th>\n",
       "    </tr>\n",
       "  </thead>\n",
       "  <tbody>\n",
       "    <tr>\n",
       "      <th>0</th>\n",
       "      <td>Agitation threat by students of Sikkim college</td>\n",
       "      <td>The students of Government Vocational College...</td>\n",
       "      <td>states</td>\n",
       "    </tr>\n",
       "    <tr>\n",
       "      <th>1</th>\n",
       "      <td>Three new faces join Sikkim cricket</td>\n",
       "      <td>The Sikkim Cricket Association (SICA) has eng...</td>\n",
       "      <td>states</td>\n",
       "    </tr>\n",
       "    <tr>\n",
       "      <th>2</th>\n",
       "      <td>Woman drowned, search on for siblings in Sikkim</td>\n",
       "      <td>Three siblings in their 20s from Kazitar Dikc...</td>\n",
       "      <td>states</td>\n",
       "    </tr>\n",
       "    <tr>\n",
       "      <th>3</th>\n",
       "      <td>Sikkim body ups ante on hospitals</td>\n",
       "      <td>The Sikkim Progressive Youth Forum has threat...</td>\n",
       "      <td>states</td>\n",
       "    </tr>\n",
       "    <tr>\n",
       "      <th>4</th>\n",
       "      <td>Ex-chief of Sikkim tourism body held under Poc...</td>\n",
       "      <td>Rup Narayan Rai, a former chairman of the Sik...</td>\n",
       "      <td>states</td>\n",
       "    </tr>\n",
       "  </tbody>\n",
       "</table>\n",
       "</div>"
      ],
      "text/plain": [
       "                                                head  \\\n",
       "0     Agitation threat by students of Sikkim college   \n",
       "1                Three new faces join Sikkim cricket   \n",
       "2    Woman drowned, search on for siblings in Sikkim   \n",
       "3                  Sikkim body ups ante on hospitals   \n",
       "4  Ex-chief of Sikkim tourism body held under Poc...   \n",
       "\n",
       "                                                desc   topic  \n",
       "0   The students of Government Vocational College...  states  \n",
       "1   The Sikkim Cricket Association (SICA) has eng...  states  \n",
       "2   Three siblings in their 20s from Kazitar Dikc...  states  \n",
       "3   The Sikkim Progressive Youth Forum has threat...  states  \n",
       "4   Rup Narayan Rai, a former chairman of the Sik...  states  "
      ]
     },
     "execution_count": 23,
     "metadata": {},
     "output_type": "execute_result"
    }
   ],
   "source": [
    "tlg.head(5)"
   ]
  },
  {
   "cell_type": "code",
   "execution_count": 24,
   "metadata": {},
   "outputs": [
    {
     "data": {
      "text/html": [
       "<div>\n",
       "<style scoped>\n",
       "    .dataframe tbody tr th:only-of-type {\n",
       "        vertical-align: middle;\n",
       "    }\n",
       "\n",
       "    .dataframe tbody tr th {\n",
       "        vertical-align: top;\n",
       "    }\n",
       "\n",
       "    .dataframe thead th {\n",
       "        text-align: right;\n",
       "    }\n",
       "</style>\n",
       "<table border=\"1\" class=\"dataframe\">\n",
       "  <thead>\n",
       "    <tr style=\"text-align: right;\">\n",
       "      <th></th>\n",
       "      <th>head</th>\n",
       "      <th>desc</th>\n",
       "      <th>topic</th>\n",
       "    </tr>\n",
       "  </thead>\n",
       "  <tbody>\n",
       "    <tr>\n",
       "      <th>0</th>\n",
       "      <td>India's Petronet buys LNG cargo for November d...</td>\n",
       "      <td>SINGAPORE (Reuters) - India’s Petronet LNG bo...</td>\n",
       "      <td>Business</td>\n",
       "    </tr>\n",
       "    <tr>\n",
       "      <th>1</th>\n",
       "      <td>Deutsche Bank: Global GDP to hit pre-COVID-19 ...</td>\n",
       "      <td>LONDON (Reuters) - World economic output will...</td>\n",
       "      <td>Business</td>\n",
       "    </tr>\n",
       "    <tr>\n",
       "      <th>2</th>\n",
       "      <td>France's Iliad makes $4.2 billion bid for Poli...</td>\n",
       "      <td>PARIS (Reuters) - France's Iliad ILD.PA moved...</td>\n",
       "      <td>Business</td>\n",
       "    </tr>\n",
       "    <tr>\n",
       "      <th>3</th>\n",
       "      <td>UK's Informa posts first-half loss after nearl...</td>\n",
       "      <td>(Reuters) - Informa Plc, the world’s largest ...</td>\n",
       "      <td>Business</td>\n",
       "    </tr>\n",
       "    <tr>\n",
       "      <th>4</th>\n",
       "      <td>Spain faces unusual problem: how to spend bill...</td>\n",
       "      <td>MADRID (Reuters) - After securing a generous ...</td>\n",
       "      <td>Business</td>\n",
       "    </tr>\n",
       "    <tr>\n",
       "      <th>...</th>\n",
       "      <td>...</td>\n",
       "      <td>...</td>\n",
       "      <td>...</td>\n",
       "    </tr>\n",
       "    <tr>\n",
       "      <th>3096</th>\n",
       "      <td>t2 got a glimpse of some handmade tales at the...</td>\n",
       "      <td></td>\n",
       "      <td>culture</td>\n",
       "    </tr>\n",
       "    <tr>\n",
       "      <th>3097</th>\n",
       "      <td>Music, dance, fireworks &amp; clicks as ALSOC reun...</td>\n",
       "      <td></td>\n",
       "      <td>culture</td>\n",
       "    </tr>\n",
       "    <tr>\n",
       "      <th>3098</th>\n",
       "      <td>Calcutta to crush, life lessons to charity sta...</td>\n",
       "      <td></td>\n",
       "      <td>culture</td>\n",
       "    </tr>\n",
       "    <tr>\n",
       "      <th>3099</th>\n",
       "      <td>Biteright</td>\n",
       "      <td></td>\n",
       "      <td>culture</td>\n",
       "    </tr>\n",
       "    <tr>\n",
       "      <th>3100</th>\n",
       "      <td>Film, biz, dance and cheers at BRIO 2k17, with t2</td>\n",
       "      <td></td>\n",
       "      <td>culture</td>\n",
       "    </tr>\n",
       "  </tbody>\n",
       "</table>\n",
       "<p>3101 rows × 3 columns</p>\n",
       "</div>"
      ],
      "text/plain": [
       "                                                   head  \\\n",
       "0     India's Petronet buys LNG cargo for November d...   \n",
       "1     Deutsche Bank: Global GDP to hit pre-COVID-19 ...   \n",
       "2     France's Iliad makes $4.2 billion bid for Poli...   \n",
       "3     UK's Informa posts first-half loss after nearl...   \n",
       "4     Spain faces unusual problem: how to spend bill...   \n",
       "...                                                 ...   \n",
       "3096  t2 got a glimpse of some handmade tales at the...   \n",
       "3097  Music, dance, fireworks & clicks as ALSOC reun...   \n",
       "3098  Calcutta to crush, life lessons to charity sta...   \n",
       "3099                                          Biteright   \n",
       "3100  Film, biz, dance and cheers at BRIO 2k17, with t2   \n",
       "\n",
       "                                                   desc     topic  \n",
       "0      SINGAPORE (Reuters) - India’s Petronet LNG bo...  Business  \n",
       "1      LONDON (Reuters) - World economic output will...  Business  \n",
       "2      PARIS (Reuters) - France's Iliad ILD.PA moved...  Business  \n",
       "3      (Reuters) - Informa Plc, the world’s largest ...  Business  \n",
       "4      MADRID (Reuters) - After securing a generous ...  Business  \n",
       "...                                                 ...       ...  \n",
       "3096                                                      culture  \n",
       "3097                                                      culture  \n",
       "3098                                                      culture  \n",
       "3099                                                      culture  \n",
       "3100                                                      culture  \n",
       "\n",
       "[3101 rows x 3 columns]"
      ]
     },
     "execution_count": 24,
     "metadata": {},
     "output_type": "execute_result"
    }
   ],
   "source": [
    "news=rtr.append(tlg,ignore_index=True)\n",
    "news"
   ]
  },
  {
   "cell_type": "code",
   "execution_count": 25,
   "metadata": {},
   "outputs": [],
   "source": [
    "#SAVING DATAFRAME TO CSV\n",
    "news.to_csv(r'news_scrapping/news_train.csv',index=False)"
   ]
  }
 ],
 "metadata": {
  "kernelspec": {
   "display_name": "Python 3",
   "language": "python",
   "name": "python3"
  },
  "language_info": {
   "codemirror_mode": {
    "name": "ipython",
    "version": 3
   },
   "file_extension": ".py",
   "mimetype": "text/x-python",
   "name": "python",
   "nbconvert_exporter": "python",
   "pygments_lexer": "ipython3",
   "version": "3.7.7"
  }
 },
 "nbformat": 4,
 "nbformat_minor": 4
}
