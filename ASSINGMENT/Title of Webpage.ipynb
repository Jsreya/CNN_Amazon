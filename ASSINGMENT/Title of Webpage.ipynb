{
 "cells": [
  {
   "cell_type": "code",
   "execution_count": 44,
   "metadata": {},
   "outputs": [],
   "source": [
    "from selenium import webdriver\n",
    "import time"
   ]
  },
  {
   "cell_type": "code",
   "execution_count": 45,
   "metadata": {},
   "outputs": [],
   "source": [
    "def title(url):\n",
    "    driver=webdriver.Chrome(executable_path=r\"C:\\Users\\hp\\cdriver.exe\")\n",
    "    driver.get(url)\n",
    "    time.sleep(5)\n",
    "    title=driver.title\n",
    "    if title==None:\n",
    "        print('No Title found',driver.current_url)\n",
    "    else:\n",
    "        print('\\nTitle:\\t',title)"
   ]
  },
  {
   "cell_type": "code",
   "execution_count": 49,
   "metadata": {},
   "outputs": [
    {
     "name": "stdout",
     "output_type": "stream",
     "text": [
      "Input URL: https://www.hsbc.co.in/\n",
      "\n",
      "Title:\t HSBC India - Credit Cards, NRI Services, Saving and Deposit\n"
     ]
    }
   ],
   "source": [
    "url=input('Input URL: ')\n",
    "title(url=url)"
   ]
  },
  {
   "cell_type": "code",
   "execution_count": null,
   "metadata": {},
   "outputs": [],
   "source": []
  }
 ],
 "metadata": {
  "kernelspec": {
   "display_name": "Python 3",
   "language": "python",
   "name": "python3"
  },
  "language_info": {
   "codemirror_mode": {
    "name": "ipython",
    "version": 3
   },
   "file_extension": ".py",
   "mimetype": "text/x-python",
   "name": "python",
   "nbconvert_exporter": "python",
   "pygments_lexer": "ipython3",
   "version": "3.7.7"
  }
 },
 "nbformat": 4,
 "nbformat_minor": 4
}
