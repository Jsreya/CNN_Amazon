{
 "cells": [
  {
   "cell_type": "code",
   "execution_count": 23,
   "metadata": {},
   "outputs": [],
   "source": [
    "import numpy as np\n",
    "import random\n",
    "import cv2\n",
    "\n",
    "import os\n",
    "from os import listdir,makedirs\n",
    "from os.path import isfile,join"
   ]
  },
  {
   "cell_type": "code",
   "execution_count": 24,
   "metadata": {},
   "outputs": [
    {
     "name": "stdout",
     "output_type": "stream",
     "text": [
      "OpenCV version: 3.4.2\n"
     ]
    }
   ],
   "source": [
    "print (\"OpenCV version: \" + cv2.__version__)"
   ]
  },
  {
   "cell_type": "markdown",
   "metadata": {},
   "source": [
    "AUGUMENTING SCRAPPED IMAGES OF SAREE"
   ]
  },
  {
   "cell_type": "markdown",
   "metadata": {},
   "source": [
    "Train:saree"
   ]
  },
  {
   "cell_type": "code",
   "execution_count": 25,
   "metadata": {},
   "outputs": [],
   "source": [
    "origin = r'C:\\Users\\hp\\Amazon\\Train\\saree' # Source Images Folder\n",
    "target = r'C:\\Users\\hp\\Amazon\\Augmented\\Train\\saree'  #Folder to save augmented images\n",
    "try:\n",
    "    makedirs(target)\n",
    "except:\n",
    "    print (\"Access Denied\")"
   ]
  },
  {
   "cell_type": "code",
   "execution_count": 30,
   "metadata": {},
   "outputs": [
    {
     "name": "stdout",
     "output_type": "stream",
     "text": [
      "length of files:  80\n"
     ]
    }
   ],
   "source": [
    "files = [i for i in listdir(origin) if isfile(join(origin,i))] \n",
    "print(\"length of files: \",len(files))"
   ]
  },
  {
   "cell_type": "code",
   "execution_count": 34,
   "metadata": {},
   "outputs": [],
   "source": [
    "#convert all coloured image into grey scale image & resize them in 130*130 format\n",
    "for image in files:\n",
    "    try:\n",
    "        img = cv2.imread(os.path.join(origin,image))\n",
    "        gray = cv2.cvtColor(img,cv2.COLOR_BGR2GRAY)\n",
    "        resize=cv2.resize(gray,(130,130))\n",
    "        dest = join(target,image)\n",
    "        cv2.imwrite(dest,resize)\n",
    "       \n",
    "    except:\n",
    "        print (\"Access Denied\")"
   ]
  },
  {
   "cell_type": "code",
   "execution_count": 35,
   "metadata": {},
   "outputs": [],
   "source": [
    "#1.Rotations\n",
    "def rotate(image):\n",
    "    h,w = image.shape[:2]\n",
    "    degree=random.uniform(-30,30)\n",
    "    scale=random.uniform(0.7,1.2)\n",
    "    mat = cv2.getRotationMatrix2D((h/2,w/2), degree, scale)\n",
    "    return cv2.warpAffine(image,mat,(w,h))\n",
    "\n",
    "#2.Blur_Average\n",
    "def blur(image):\n",
    "    return cv2.blur(image,(3,3))\n",
    "    \n",
    "#3.Contrast Bumping\n",
    "def contrst(image):\n",
    "    mat=np.ones(image.shape,dtype=\"uint8\")*59\n",
    "    reduce=cv2.subtract(image,mat)\n",
    "    return reduce\n",
    "\n",
    "#4.Brightness Bumping\n",
    "def brightness(image):\n",
    "    mat=np.ones(image.shape,dtype=\"uint8\")*72\n",
    "    increase=cv2.add(image,mat)\n",
    "    return increase\n",
    "\n",
    "#5. Sharpening\n",
    "def sharpness(image):\n",
    "    k=np.array([[-1,-1,-1],[-1,-1,10],[-1,-1,-1]])\n",
    "    srp=cv2.filter2D(image,-1,k)\n",
    "    return srp\n",
    "\n",
    "#6.Sobel_X Edge Detection\n",
    "\n",
    "def sobel(image):\n",
    "    sobel_x=cv2.Sobel(image,cv2.CV_64F,1,0,ksize=3)\n",
    "    return sobel_x\n",
    "\n",
    "#7.Flipping_Horizontal\n",
    "def Hflip(image):\n",
    "    flip=cv2.flip(image,1)\n",
    "    return flip\n",
    "\n",
    "#8.Translation\n",
    "def translation(image):\n",
    "    h,w= image.shape[:2]\n",
    "    x=h//5\n",
    "    y=w//5\n",
    "    mat = np.float32([[1, 0, x], [0, 1, y]])\n",
    "    image = cv2.warpAffine(image, mat, (w,h))\n",
    "    return image"
   ]
  },
  {
   "cell_type": "code",
   "execution_count": 36,
   "metadata": {},
   "outputs": [],
   "source": [
    "#creat a dictionary containing the generated functions \n",
    "transformation_techs={'rotate':rotate,\"blur\":blur,\"contrast\":contrst,\"bright\":brightness,\n",
    "                      \"sharp\":sharpness,\"sob_x\":sobel,\"flip\":Hflip,\"trans\":translation}"
   ]
  },
  {
   "cell_type": "code",
   "execution_count": 37,
   "metadata": {},
   "outputs": [],
   "source": [
    "#CREATE A LIST OF FILE PATH OF IMAGES FOR AUGUMENTATION\n",
    "\n",
    "images = [join(target, x) for x in listdir(target) if isfile(join(target,x))]\n",
    "no_required=500\n",
    "no_generated_img=0\n",
    "while no_generated_img<no_required:\n",
    "    path=random.choice(images)\n",
    "    im2_transformed=cv2.imread(path)\n",
    "    no_of_transformation_selected = random.randint(1, len(transformation_techs))\n",
    "    \n",
    "    num_transformation_done = 0\n",
    "    transformation= None\n",
    "    while num_transformation_done<=no_of_transformation_selected-1:\n",
    "        function = random.choice(list(transformation_techs))\n",
    "        transformation=transformation_techs[function](im2_transformed)\n",
    "        num_transformation_done=num_transformation_done+1\n",
    "#saving the image generated\n",
    "        augmented_file_path = '{}/augmented_image_{}.jpg'.format(target,no_generated_img)\n",
    "        cv2.imwrite(augmented_file_path, transformation)\n",
    "    no_generated_img +=1"
   ]
  },
  {
   "cell_type": "markdown",
   "metadata": {},
   "source": [
    "Test: saree"
   ]
  },
  {
   "cell_type": "code",
   "execution_count": 55,
   "metadata": {},
   "outputs": [],
   "source": [
    "origin = r'C:\\Users\\hp\\Amazon\\Test\\saree' # Source Images Folder\n",
    "target = r'C:\\Users\\hp\\Amazon\\Augmented\\Test\\saree'  #Folder to save augmented images\n",
    "try:\n",
    "    makedirs(target)\n",
    "except:\n",
    "    print (\"Access Denied\")"
   ]
  },
  {
   "cell_type": "code",
   "execution_count": 57,
   "metadata": {},
   "outputs": [
    {
     "name": "stdout",
     "output_type": "stream",
     "text": [
      "length of files:  20\n"
     ]
    }
   ],
   "source": [
    "files = [i for i in listdir(origin) if isfile(join(origin,i))] \n",
    "print(\"length of files: \",len(files))"
   ]
  },
  {
   "cell_type": "code",
   "execution_count": 59,
   "metadata": {},
   "outputs": [],
   "source": [
    "#converting all coloured image into grey scale image\n",
    "for image in files:\n",
    "    try:\n",
    "        img = cv2.imread(os.path.join(origin,image))\n",
    "        gray = cv2.cvtColor(img,cv2.COLOR_BGR2GRAY)\n",
    "        dest = join(target,image)\n",
    "        cv2.imwrite(dest,gray)\n",
    "    \n",
    "    except:\n",
    "        print (\"Access Denied\")"
   ]
  },
  {
   "cell_type": "markdown",
   "metadata": {},
   "source": [
    "AUGUMENTING SCRAPPED IMAGES OF SHIRT"
   ]
  },
  {
   "cell_type": "markdown",
   "metadata": {},
   "source": [
    "Train: Shirt"
   ]
  },
  {
   "cell_type": "code",
   "execution_count": 38,
   "metadata": {},
   "outputs": [],
   "source": [
    "origin = r'C:\\Users\\hp\\Amazon\\Train\\shirt' # Source Images Folder\n",
    "target = r'C:\\Users\\hp\\Amazon\\Augmented\\Train\\shirt'  #Folder to save augmented images\n",
    "try:\n",
    "    makedirs(target)\n",
    "except:\n",
    "    print (\"Access Denied\")"
   ]
  },
  {
   "cell_type": "code",
   "execution_count": 41,
   "metadata": {},
   "outputs": [
    {
     "name": "stdout",
     "output_type": "stream",
     "text": [
      "length of files:  80\n"
     ]
    }
   ],
   "source": [
    "files = [i for i in listdir(origin) if isfile(join(origin,i))] \n",
    "print(\"length of files: \",len(files))"
   ]
  },
  {
   "cell_type": "code",
   "execution_count": 44,
   "metadata": {},
   "outputs": [],
   "source": [
    "#converting all coloured image into grey scale image\n",
    "for image in files:\n",
    "    try:\n",
    "        img = cv2.imread(os.path.join(origin,image))\n",
    "        gray = cv2.cvtColor(img,cv2.COLOR_BGR2GRAY)\n",
    "        resize=cv2.resize(gray,(130,130))\n",
    "        dest = join(target,image)\n",
    "        cv2.imwrite(dest,resize)\n",
    "    except:\n",
    "        print (\"Access Denied\")"
   ]
  },
  {
   "cell_type": "code",
   "execution_count": 46,
   "metadata": {},
   "outputs": [],
   "source": [
    "#CREATE LIST OF FILE PATH OF OUR IMAGES FOR AUGUMENTATION\n",
    "\n",
    "images = [join(target, x) for x in listdir(target) if isfile(join(target,x))]\n",
    "no_required=500\n",
    "no_generated_img=0\n",
    "while no_generated_img<no_required:\n",
    "    path=random.choice(images)\n",
    "    im2_transformed=cv2.imread(path)\n",
    "    no_of_transformation_selected = random.randint(1, len(transformation_techs))\n",
    "    \n",
    "    num_transformation_done = 0\n",
    "    transformation= None\n",
    "    while num_transformation_done<=no_of_transformation_selected-1:\n",
    "        function = random.choice(list(transformation_techs))\n",
    "        transformation=transformation_techs[function](im2_transformed)\n",
    "        num_transformation_done=num_transformation_done+1\n",
    "#saving the image generated\n",
    "        augmented_file_path = '{}/augmented_image_{}.jpg'.format(target,no_generated_img)\n",
    "        cv2.imwrite(augmented_file_path, transformation)\n",
    "    no_generated_img +=1"
   ]
  },
  {
   "cell_type": "markdown",
   "metadata": {},
   "source": [
    "Test: Shirt"
   ]
  },
  {
   "cell_type": "code",
   "execution_count": 60,
   "metadata": {},
   "outputs": [],
   "source": [
    "origin = r'C:\\Users\\hp\\Amazon\\Test\\shirt' # Source Images Folder\n",
    "target = r'C:\\Users\\hp\\Amazon\\Augmented\\Test\\shirt'  #Folder to save augmented images\n",
    "try:\n",
    "    makedirs(target)\n",
    "except:\n",
    "    print (\"Access Denied\")"
   ]
  },
  {
   "cell_type": "code",
   "execution_count": 62,
   "metadata": {},
   "outputs": [
    {
     "name": "stdout",
     "output_type": "stream",
     "text": [
      "length of files:  20\n"
     ]
    }
   ],
   "source": [
    "files = [i for i in listdir(origin) if isfile(join(origin,i))] \n",
    "print(\"length of files: \",len(files))"
   ]
  },
  {
   "cell_type": "code",
   "execution_count": 63,
   "metadata": {},
   "outputs": [],
   "source": [
    "#converting all coloured image into grey scale image\n",
    "for image in files:\n",
    "    try:\n",
    "        img = cv2.imread(os.path.join(origin,image))\n",
    "        gray = cv2.cvtColor(img,cv2.COLOR_BGR2GRAY)\n",
    "        dest = join(target,image)\n",
    "        cv2.imwrite(dest,gray)\n",
    "    \n",
    "    except:\n",
    "        print (\"Access Denied\")"
   ]
  },
  {
   "cell_type": "markdown",
   "metadata": {},
   "source": [
    "AUGUMENTING SCRAPPED IMAGES OF TSHIRT"
   ]
  },
  {
   "cell_type": "markdown",
   "metadata": {},
   "source": [
    "Train: Tshirt"
   ]
  },
  {
   "cell_type": "code",
   "execution_count": 47,
   "metadata": {},
   "outputs": [],
   "source": [
    "origin = r'C:\\Users\\hp\\Amazon\\Train\\tshirt' # Source Images Folder\n",
    "target = r'C:\\Users\\hp\\Amazon\\Augmented\\Train\\tshirt'  #Folder to save augmented images\n",
    "try:\n",
    "    makedirs(target)\n",
    "except:\n",
    "    print (\"Access Denied\")"
   ]
  },
  {
   "cell_type": "code",
   "execution_count": 50,
   "metadata": {},
   "outputs": [
    {
     "name": "stdout",
     "output_type": "stream",
     "text": [
      "length of files:  80\n"
     ]
    }
   ],
   "source": [
    "files = [i for i in listdir(origin) if isfile(join(origin,i))] \n",
    "print(\"length of files: \",len(files))"
   ]
  },
  {
   "cell_type": "code",
   "execution_count": 51,
   "metadata": {},
   "outputs": [],
   "source": [
    "#converting all coloured image into grey scale image\n",
    "for image in files:\n",
    "    try:\n",
    "        img = cv2.imread(os.path.join(origin,image))\n",
    "        gray = cv2.cvtColor(img,cv2.COLOR_BGR2GRAY)\n",
    "        resize=cv2.resize(gray,(130,130))\n",
    "        dest = join(target,image)\n",
    "        cv2.imwrite(dest,resize)\n",
    "    except:\n",
    "        print (\"Access Denied\")"
   ]
  },
  {
   "cell_type": "code",
   "execution_count": 53,
   "metadata": {},
   "outputs": [],
   "source": [
    "#CREATING A LIST OF FILE PATH OF OUR IMAGES FOR AUGUMENTATION\n",
    "\n",
    "images = [join(target, x) for x in listdir(target) if isfile(join(target,x))]\n",
    "no_required=500\n",
    "no_generated_img=0\n",
    "while no_generated_img<no_required:\n",
    "    path=random.choice(images)\n",
    "    im2_transformed=cv2.imread(path)\n",
    "    no_of_transformation_selected = random.randint(1, len(transformation_techs))\n",
    "    \n",
    "    num_transformation_done = 0\n",
    "    transformation= None\n",
    "    while num_transformation_done<=no_of_transformation_selected-1:\n",
    "        function = random.choice(list(transformation_techs))\n",
    "        transformation=transformation_techs[function](im2_transformed)\n",
    "        num_transformation_done=num_transformation_done+1\n",
    "#saving the image generated\n",
    "        augmented_file_path = '{}/augmented_image_{}.jpg'.format(target,no_generated_img)\n",
    "        cv2.imwrite(augmented_file_path, transformation)\n",
    "    no_generated_img +=1"
   ]
  },
  {
   "cell_type": "markdown",
   "metadata": {},
   "source": [
    "Test: Tshirt"
   ]
  },
  {
   "cell_type": "code",
   "execution_count": 64,
   "metadata": {},
   "outputs": [],
   "source": [
    "origin = r'C:\\Users\\hp\\Amazon\\Test\\tshirt' # Source Images Folder\n",
    "target = r'C:\\Users\\hp\\Amazon\\Augmented\\Test\\tshirt'  #Folder to save augmented images\n",
    "try:\n",
    "    makedirs(target)\n",
    "except:\n",
    "    print (\"Access Denied\")"
   ]
  },
  {
   "cell_type": "code",
   "execution_count": 65,
   "metadata": {},
   "outputs": [
    {
     "name": "stdout",
     "output_type": "stream",
     "text": [
      "length of files:  20\n"
     ]
    }
   ],
   "source": [
    "files = [i for i in listdir(origin) if isfile(join(origin,i))] \n",
    "print(\"length of files: \",len(files))"
   ]
  },
  {
   "cell_type": "code",
   "execution_count": 67,
   "metadata": {},
   "outputs": [],
   "source": [
    "#converting all coloured image into grey scale image\n",
    "for image in files:\n",
    "    try:\n",
    "        img = cv2.imread(os.path.join(origin,image))\n",
    "        gray = cv2.cvtColor(img,cv2.COLOR_BGR2GRAY)\n",
    "        dest = join(target,image)\n",
    "        cv2.imwrite(dest,gray)\n",
    "    \n",
    "    except:\n",
    "        print (\"Access Denied\")"
   ]
  }
 ],
 "metadata": {
  "kernelspec": {
   "display_name": "Python 3",
   "language": "python",
   "name": "python3"
  },
  "language_info": {
   "codemirror_mode": {
    "name": "ipython",
    "version": 3
   },
   "file_extension": ".py",
   "mimetype": "text/x-python",
   "name": "python",
   "nbconvert_exporter": "python",
   "pygments_lexer": "ipython3",
   "version": "3.7.7"
  }
 },
 "nbformat": 4,
 "nbformat_minor": 4
}
